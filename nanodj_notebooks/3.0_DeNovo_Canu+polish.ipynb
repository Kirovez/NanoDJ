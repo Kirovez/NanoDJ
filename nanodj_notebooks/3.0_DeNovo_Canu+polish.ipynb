{
 "cells": [
  {
   "cell_type": "markdown",
   "metadata": {},
   "source": [
    "## *De novo* Canu assembly and Nanopolish\n",
    "\n",
    "###### NOTE: This notebook has high memory requirements\n",
    "\n",
    "This notebook relies on [Canu](https://github.com/marbl/canu) to get a draft genome assembly, and in Nanopolish to improve the consensus sequence.\n",
    "\n",
    "Canu is a popular assembler based on the Celera Assembler that can reliably assemble complete microbial genomes and almost complete eukaryotic chromosomes. Canu has three stages: correction, trimming and assembly. Each of the stages can be executed independently or in series. More information of the process is available in the 2.0_DeNovo_Canu-Miniasm.ipynb notebook.\n",
    "\n",
    "[Nanpolish](https://github.com/jts/nanopolish) polishes the consensus sequence improving the accuracy of all assemblies. Nanopolish works with signal-level ONT data, the basecalled reads, and the draft assembly to generate an improved assembly. \n",
    "\n",
    "The first step is to get the draft assembly. Although this can be done with any assembly tool for ONT data, the following commands use Canu:"
   ]
  },
  {
   "cell_type": "code",
   "execution_count": null,
   "metadata": {
    "collapsed": true
   },
   "outputs": [],
   "source": [
    "canu -p sample \\\n",
    "     -d data/sample/canu_output \\\n",
    "     genomeSize=2.1m \\\n",
    "     useGrid=false \\\n",
    "     minReadLength=50 \\\n",
    "     minOverlapLength=50 \\\n",
    "     corMemory=2 \\\n",
    "     corThreads=2 \\\n",
    "     maxMemory=6 \\\n",
    "     stopOnLowCoverage=1 \\\n",
    "     -nanopore-raw data/sample/reads.fastq"
   ]
  },
  {
   "cell_type": "markdown",
   "metadata": {},
   "source": [
    "Nanopolish actually consists of four different modules that complete different tasks. The code will be using the \"variants --consensus\" module that calculates an improved consensus sequence for a draft assembly. The other available Nanopolish modules are:\n",
    "\n",
    "- nanopolish call-methylation: predict genomic bases that may be methylated\n",
    "- nanopolish variants: detect point variants and indels with respect to a reference genome\n",
    "- nanopolish eventalign: align signal-level events to k-mers of a reference genome\n",
    "\n",
    "Before using Nanopolish, the user will need to pre-process the reads and the assembly. [BWA aligner](https://github.com/lh3/bwa) is used to accomplish the task of getting the necessary input files to run the Nanopolish --consensus module.\n",
    "\n",
    "In first place, the draft assembly have to be indexed to perform the alignment against the basecalled reads file:"
   ]
  },
  {
   "cell_type": "code",
   "execution_count": 1,
   "metadata": {
    "collapsed": true,
    "scrolled": false
   },
   "outputs": [
    {
     "name": "stdout",
     "output_type": "stream",
     "text": [
      "[bwa_index] Pack FASTA... 0.00 sec\n",
      "[bwa_index] Construct BWT for the packed sequence...\n",
      "[bwa_index] 0.06 seconds elapse.\n",
      "[bwa_index] Update BWT... 0.00 sec\n",
      "[bwa_index] Pack forward-only FASTA... 0.00 sec\n",
      "[bwa_index] Construct SA from BWT and Occ... 0.03 sec\n",
      "[main] Version: 0.7.15-r1140\n",
      "[main] CMD: bwa index data/sample/canu_output/sample.contigs.fasta\n",
      "[main] Real time: 0.137 sec; CPU: 0.100 sec\n"
     ]
    }
   ],
   "source": [
    "bwa index data/sample/canu_output/sample.contigs.fasta"
   ]
  },
  {
   "cell_type": "markdown",
   "metadata": {},
   "source": [
    "In addition, SAMtools is used to sort the aligned reads file and to index this file:"
   ]
  },
  {
   "cell_type": "code",
   "execution_count": 2,
   "metadata": {},
   "outputs": [
    {
     "name": "stdout",
     "output_type": "stream",
     "text": [
      "[bam_header_read] EOF marker is absent. The input is probably truncated.\n",
      "[M::bwa_idx_load_from_disk] read 0 ALT contigs\n",
      "[M::process] read 2650 sequences (20048748 bp)...\n",
      "[M::process] read 1070 sequences (14793475 bp)...\n",
      "[M::mem_process_seqs] Processed 2650 reads in 29.624 CPU sec, 15.117 real sec\n",
      "[samopen] SAM header is present: 47 sequences.\n",
      "[M::mem_process_seqs] Processed 1070 reads in 10.612 CPU sec, 5.476 real sec\n",
      "[main] Version: 0.7.15-r1140\n",
      "[main] CMD: bwa mem -x ont2d -t 2 data/sample/canu_output/sample.contigs.fasta data/sample/reads.fastq\n",
      "[main] Real time: 20.879 sec; CPU: 40.312 sec\n"
     ]
    }
   ],
   "source": [
    "bwa mem -x ont2d -t 2 data/sample/canu_output/sample.contigs.fasta data/sample/reads.fastq | samtools view -S -b -u - | samtools sort - data/sample/reads.sorted | samtools index data/sample/reads.sorted.bam"
   ]
  },
  {
   "cell_type": "markdown",
   "metadata": {},
   "source": [
    "After getting the input files, Nanopolish must build an index mapping from basecalled reads to the ONT event data (the directory with the original FAST5 files)."
   ]
  },
  {
   "cell_type": "code",
   "execution_count": 3,
   "metadata": {
    "collapsed": true
   },
   "outputs": [
    {
     "name": "stdout",
     "output_type": "stream",
     "text": [
      "[readdb] indexing data/sample/fast5\n",
      "[readdb] num reads: 3720, num reads with path to fast5: 1639\n"
     ]
    }
   ],
   "source": [
    "#Data not included in the repository\n",
    "nanopolish index -d data/sample/fast5 \\\n",
    "                    data/sample/reads.fastq\n"
   ]
  },
  {
   "cell_type": "markdown",
   "metadata": {},
   "source": [
    "With the following code, Nanopolish will improve the draft assembly using the variants --consensus module. From version 0.10, \"variants --consensus\" only outputs a VCF file instead of a FASTA. The VCF file describes the changes that need to be made to turn the draft sequence into the polished assembly. The vcf2fasta script is then used to generate the final polished genome.\n",
    "\n",
    "Change the **-P** and **--threads** options as appropriate for the machines."
   ]
  },
  {
   "cell_type": "code",
   "execution_count": 4,
   "metadata": {
    "collapsed": true
   },
   "outputs": [
    {
     "name": "stdout",
     "output_type": "stream",
     "text": [
      "When using programs that use GNU Parallel to process data for publication please cite:\n",
      "\n",
      "  O. Tange (2011): GNU Parallel - The Command-Line Power Tool,\n",
      "  ;login: The USENIX Magazine, February 2011:42-47.\n",
      "\n",
      "This helps funding further development; and it won't cost you a cent.\n",
      "Or you can get GNU Parallel without this requirement by paying 10000 EUR.\n",
      "\n",
      "To silence this citation notice run 'parallel --bibtex' once or use '--no-notice'.\n",
      "\n",
      "Warning: The index file is older than the data file: data/sample/reads.sorted.bam.bai\n",
      "Number of variants in span (19) would exceed max-haplotypes. Variants may be missed. Consider running with a higher value of max-haplotypes!\n",
      "Number of variants in span (61) would exceed max-haplotypes. Variants may be missed. Consider running with a higher value of max-haplotypes!\n",
      "Number of variants in span (10) would exceed max-haplotypes. Variants may be missed. Consider running with a higher value of max-haplotypes!\n",
      "Number of variants in span (19) would exceed max-haplotypes. Variants may be missed. Consider running with a higher value of max-haplotypes!\n",
      "Number of variants in span (16) would exceed max-haplotypes. Variants may be missed. Consider running with a higher value of max-haplotypes!\n",
      "Number of variants in span (28) would exceed max-haplotypes. Variants may be missed. Consider running with a higher value of max-haplotypes!\n",
      "Number of variants in span (12) would exceed max-haplotypes. Variants may be missed. Consider running with a higher value of max-haplotypes!\n",
      "Number of variants in span (15) would exceed max-haplotypes. Variants may be missed. Consider running with a higher value of max-haplotypes!\n",
      "Number of variants in span (38) would exceed max-haplotypes. Variants may be missed. Consider running with a higher value of max-haplotypes!\n",
      "Number of variants in span (23) would exceed max-haplotypes. Variants may be missed. Consider running with a higher value of max-haplotypes!\n",
      "Number of variants in span (11) would exceed max-haplotypes. Variants may be missed. Consider running with a higher value of max-haplotypes!\n",
      "Number of variants in span (11) would exceed max-haplotypes. Variants may be missed. Consider running with a higher value of max-haplotypes!\n",
      "[post-run summary] total reads: 32, unparseable: 0, qc fail: 0, could not calibrate: 0, no alignment: 15, bad fast5: 5\n",
      ".............\n",
      "Warning: 128 variants in span, region not called [2859 3081]\n",
      "Number of variants in span (65) would exceed max-haplotypes. Variants may be missed. Consider running with a higher value of max-haplotypes!\n",
      "Number of variants in span (55) would exceed max-haplotypes. Variants may be missed. Consider running with a higher value of max-haplotypes!\n",
      "Number of variants in span (28) would exceed max-haplotypes. Variants may be missed. Consider running with a higher value of max-haplotypes!\n",
      "Number of variants in span (30) would exceed max-haplotypes. Variants may be missed. Consider running with a higher value of max-haplotypes!\n",
      "Number of variants in span (74) would exceed max-haplotypes. Variants may be missed. Consider running with a higher value of max-haplotypes!\n",
      "Number of variants in span (24) would exceed max-haplotypes. Variants may be missed. Consider running with a higher value of max-haplotypes!\n",
      "Number of variants in span (81) would exceed max-haplotypes. Variants may be missed. Consider running with a higher value of max-haplotypes!\n",
      "Number of variants in span (52) would exceed max-haplotypes. Variants may be missed. Consider running with a higher value of max-haplotypes!\n",
      "[post-run summary] total reads: 6, unparseable: 0, qc fail: 0, could not calibrate: 0, no alignment: 3, bad fast5: 2\n"
     ]
    }
   ],
   "source": [
    "mkdir -p data/sample/nanopolish_output\n",
    "python3 /home/jovyan/software/nanopolish/scripts/nanopolish_makerange.py data/sample/canu_output/sample.contigs.fasta | parallel --results data/sample/nanopolish.results -P 2 \\\n",
    "    nanopolish variants --consensus -o data/sample/nanopolish_output/polished.{1}.vcf -w {1} -r data/sample/reads.fastq -b data/sample/reads.sorted.bam -g data/sample/canu_output/sample.contigs.fasta -t 2 --min-candidate-frequency=0.1"
   ]
  },
  {
   "cell_type": "code",
   "execution_count": 6,
   "metadata": {
    "collapsed": true
   },
   "outputs": [
    {
     "name": "stdout",
     "output_type": "stream",
     "text": [
      "[vcf2fasta] rewrote contig tig00000001 with 13 subs, 87 ins, 7 dels (0 skipped)\n",
      "[vcf2fasta] rewrote contig tig00000003 with 17 subs, 22 ins, 5 dels (0 skipped)\n",
      "[vcf2fasta] rewrote contig tig00000008 with 28 subs, 48 ins, 8 dels (0 skipped)\n",
      "[vcf2fasta] rewrote contig tig00000009 with 6 subs, 14 ins, 1 dels (0 skipped)\n",
      "[vcf2fasta] rewrote contig tig00000015 with 0 subs, 0 ins, 0 dels (0 skipped)\n",
      "[vcf2fasta] rewrote contig tig00000018 with 24 subs, 41 ins, 1 dels (0 skipped)\n",
      "[vcf2fasta] rewrote contig tig00000026 with 24 subs, 57 ins, 8 dels (0 skipped)\n",
      "[vcf2fasta] rewrote contig tig00000028 with 0 subs, 0 ins, 0 dels (0 skipped)\n",
      "[vcf2fasta] rewrote contig tig00000033 with 0 subs, 1 ins, 0 dels (0 skipped)\n",
      "[vcf2fasta] rewrote contig tig00000038 with 0 subs, 0 ins, 0 dels (0 skipped)\n",
      "[vcf2fasta] rewrote contig tig00000049 with 0 subs, 0 ins, 0 dels (0 skipped)\n",
      "[vcf2fasta] rewrote contig tig00000052 with 19 subs, 35 ins, 1 dels (0 skipped)\n",
      "[vcf2fasta] rewrote contig tig00000053 with 4 subs, 4 ins, 2 dels (0 skipped)\n",
      "[vcf2fasta] rewrote contig tig00000054 with 0 subs, 0 ins, 0 dels (0 skipped)\n",
      "[vcf2fasta] rewrote contig tig00000059 with 0 subs, 0 ins, 0 dels (0 skipped)\n",
      "[vcf2fasta] rewrote contig tig00000072 with 1 subs, 4 ins, 0 dels (0 skipped)\n",
      "[vcf2fasta] rewrote contig tig00000077 with 0 subs, 0 ins, 0 dels (0 skipped)\n",
      "[vcf2fasta] rewrote contig tig00000088 with 0 subs, 0 ins, 0 dels (0 skipped)\n",
      "[vcf2fasta] rewrote contig tig00000091 with 0 subs, 0 ins, 0 dels (0 skipped)\n",
      "[vcf2fasta] rewrote contig tig00000092 with 1 subs, 2 ins, 0 dels (0 skipped)\n",
      "[vcf2fasta] rewrote contig tig00000095 with 0 subs, 0 ins, 0 dels (0 skipped)\n",
      "[vcf2fasta] rewrote contig tig00000114 with 0 subs, 0 ins, 0 dels (0 skipped)\n",
      "[vcf2fasta] rewrote contig tig00000116 with 0 subs, 0 ins, 0 dels (0 skipped)\n",
      "[vcf2fasta] rewrote contig tig00000119 with 2 subs, 3 ins, 0 dels (0 skipped)\n",
      "[vcf2fasta] rewrote contig tig00000123 with 20 subs, 47 ins, 5 dels (0 skipped)\n",
      "[vcf2fasta] rewrote contig tig00000127 with 1 subs, 8 ins, 0 dels (0 skipped)\n",
      "[vcf2fasta] rewrote contig tig00000142 with 0 subs, 0 ins, 0 dels (0 skipped)\n",
      "[vcf2fasta] rewrote contig tig00000143 with 0 subs, 0 ins, 0 dels (0 skipped)\n",
      "[vcf2fasta] rewrote contig tig00000148 with 8 subs, 19 ins, 5 dels (0 skipped)\n",
      "[vcf2fasta] rewrote contig tig00000153 with 19 subs, 54 ins, 7 dels (0 skipped)\n",
      "[vcf2fasta] rewrote contig tig00000179 with 0 subs, 0 ins, 0 dels (0 skipped)\n",
      "[vcf2fasta] rewrote contig tig00000182 with 0 subs, 1 ins, 0 dels (0 skipped)\n",
      "[vcf2fasta] rewrote contig tig00000191 with 0 subs, 0 ins, 0 dels (0 skipped)\n",
      "[vcf2fasta] rewrote contig tig00000193 with 0 subs, 0 ins, 0 dels (0 skipped)\n",
      "[vcf2fasta] rewrote contig tig00000197 with 0 subs, 3 ins, 0 dels (0 skipped)\n",
      "[vcf2fasta] rewrote contig tig00000201 with 10 subs, 22 ins, 1 dels (0 skipped)\n",
      "[vcf2fasta] rewrote contig tig00000203 with 2 subs, 4 ins, 1 dels (0 skipped)\n",
      "[vcf2fasta] rewrote contig tig00000216 with 0 subs, 2 ins, 1 dels (0 skipped)\n",
      "[vcf2fasta] rewrote contig tig00000220 with 0 subs, 0 ins, 0 dels (0 skipped)\n",
      "[vcf2fasta] rewrote contig tig00000223 with 13 subs, 29 ins, 5 dels (0 skipped)\n",
      "[vcf2fasta] rewrote contig tig00000240 with 0 subs, 0 ins, 0 dels (0 skipped)\n",
      "[vcf2fasta] rewrote contig tig00000242 with 3 subs, 4 ins, 1 dels (0 skipped)\n",
      "[vcf2fasta] rewrote contig tig00000244 with 0 subs, 0 ins, 0 dels (0 skipped)\n",
      "[vcf2fasta] rewrote contig tig00000245 with 0 subs, 0 ins, 0 dels (0 skipped)\n",
      "[vcf2fasta] rewrote contig tig00000250 with 3 subs, 3 ins, 0 dels (0 skipped)\n",
      "[vcf2fasta] rewrote contig tig00001190 with 2 subs, 1 ins, 0 dels (0 skipped)\n",
      "[vcf2fasta] rewrote contig tig00001191 with 0 subs, 0 ins, 0 dels (0 skipped)\n"
     ]
    }
   ],
   "source": [
    "nanopolish vcf2fasta -g data/sample/canu_output/sample.contigs.fasta data/sample/nanopolish_output/polished.*.vcf > data/sample/nanopolish_output/polished_genome.fa"
   ]
  },
  {
   "cell_type": "markdown",
   "metadata": {},
   "source": [
    "### References\n",
    "\n",
    "[1] Loman N.J., Quick J. and Simpson J.T. A complete bacterial genome assembled de novo using only nanopore sequencing data. Nature Methods 2015 12:733–735. DOI: https://doi.org/10.1101/015552 "
   ]
  }
 ],
 "metadata": {
  "kernelspec": {
   "display_name": "Bash",
   "language": "bash",
   "name": "bash"
  },
  "language_info": {
   "codemirror_mode": "shell",
   "file_extension": ".sh",
   "mimetype": "text/x-sh",
   "name": "bash"
  }
 },
 "nbformat": 4,
 "nbformat_minor": 2
}
