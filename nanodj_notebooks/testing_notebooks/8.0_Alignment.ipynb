{
 "cells": [
  {
   "cell_type": "markdown",
   "metadata": {},
   "source": [
    "## Alignment with BWA, Rebaler and BLAST\n",
    "\n",
    "There are many algorithms to efficiently align short reads, although they are not optimal for long reads (e.g. ONT reads). To put it simple, long-reads are usually affected by structural variations and the indels that may be due to sequencing errors. For this reason, NanoDJ relies on aligners such as BWA, Rebaler or BLAST that are better for finding local matches. "
   ]
  },
  {
   "cell_type": "markdown",
   "metadata": {},
   "source": [
    "## Alignment with BWA"
   ]
  },
  {
   "cell_type": "markdown",
   "metadata": {},
   "source": [
    "Burrows Wheeler Aligner ([BWA](https://github.com/lh3/bwa)) is carefully designed to achieve a good balance between performance and accuracy in the alignment. BWA is software package that includes tools for mapping ONT long reads to a reference, including many alternative alignment algorithms. Some of them are ideal for short-reads, while others are better suited for long reads. BWA-MEM is generally recommended for high-quality queries as it is faster and more accurate. BWA-MEM automatically chooses between local and end-to-end alignments, supports paired-end reads and performs chimeric alignment. The algorithm is robust to sequencing errors and chimeras, and is applicable to a wide range of sequence lengths from 70 bp to a few Mb. \n",
    "\n",
    "This algorithm is used many times in NanoDJ notebooks as a step for some of the applications. BWA needs the sequence reads and a reference as inputs and supports more than one execution thread with the <font color='blue'>-t</font> option.\n",
    "\n",
    "Before running BWA-MEM, the user will first need to index the reference genome (FASTA):"
   ]
  },
  {
   "cell_type": "code",
   "execution_count": 1,
   "metadata": {
    "collapsed": true
   },
   "outputs": [
    {
     "name": "stdout",
     "output_type": "stream",
     "text": [
      "[bwa_index] Pack FASTA... 0.02 sec\n",
      "[bwa_index] Construct BWT for the packed sequence...\n",
      "[bwa_index] 0.61 seconds elapse.\n",
      "[bwa_index] Update BWT... 0.01 sec\n",
      "[bwa_index] Pack forward-only FASTA... 0.01 sec\n",
      "[bwa_index] Construct SA from BWT and Occ... 0.28 sec\n",
      "[main] Version: 0.7.15-r1140\n",
      "[main] CMD: bwa index data/agalactiae/reference/NZ_CP010867.1_Ref.fasta\n",
      "[main] Real time: 1.074 sec; CPU: 0.937 sec\n"
     ]
    }
   ],
   "source": [
    "bwa index data/agalactiae/reference/NZ_CP010867.1_Ref.fasta"
   ]
  },
  {
   "cell_type": "markdown",
   "metadata": {},
   "source": [
    "Once the reference is indexed, BWA-MEM can be run using the <font color='blue'>-t</font> option to allow multithreaded execution. One must specify the (previously indexed) reference, the reads file (either as FASTA or FASTQ), and redirect the output to a file (SAM format):"
   ]
  },
  {
   "cell_type": "code",
   "execution_count": 2,
   "metadata": {
    "collapsed": true
   },
   "outputs": [
    {
     "name": "stdout",
     "output_type": "stream",
     "text": [
      "[M::bwa_idx_load_from_disk] read 0 ALT contigs\n",
      "[M::process] read 2650 sequences (20048748 bp)...\n",
      "[M::process] read 1070 sequences (14793475 bp)...\n",
      "[M::mem_process_seqs] Processed 2650 reads in 41.787 CPU sec, 21.757 real sec\n",
      "[M::mem_process_seqs] Processed 1070 reads in 14.884 CPU sec, 7.734 real sec\n",
      "[main] Version: 0.7.15-r1140\n",
      "[main] CMD: bwa mem -t 2 data/agalactiae/reference/NZ_CP010867.1_Ref.fasta data/agalactiae/reads.fastq\n",
      "[main] Real time: 29.989 sec; CPU: 56.849 sec\n"
     ]
    }
   ],
   "source": [
    "bwa mem -t 2 data/agalactiae/reference/NZ_CP010867.1_Ref.fasta data/agalactiae/reads.fastq > data/agalactiae/bwa_output.sam"
   ]
  },
  {
   "cell_type": "markdown",
   "metadata": {},
   "source": [
    "## Reference based assembly with Rebaler\n",
    "\n",
    "[Rebaler](https://github.com/rrwick/Rebaler) is used to obtain reference-based assemblies but can also reassemble/polish an assembly of long reads, using a reference assembly to guide the large-scale structure. Another advantage of Rebaler is that the reference assembly sequence does not influence the sequence of the resulting assembly.\n",
    "\n",
    "After loading the reference, Rebaler uses minimap2 to align long reads to the reference. Then, it Removes lower quality alignments (judged by length, identity and size of indels) until the reference is just covered. Any given position in the reference should now have a coverage of 1 or 2 (or 0 if the reads failed to cover a spot). The reference sequence is replaced with corresponding read fragments to produce an unpolished assembly. If parts of the reference had no read coverage, the original reference sequence will be left in place.\n",
    "\n",
    "Once the Rebaler assembly is built, multiple [Racon](https://github.com/isovic/racon) rounds are run to polish the consensus sequence."
   ]
  },
  {
   "cell_type": "code",
   "execution_count": 3,
   "metadata": {
    "collapsed": true
   },
   "outputs": [
    {
     "name": "stdout",
     "output_type": "stream",
     "text": [
      "usage: rebaler [-t THREADS] [--keep] [--random] [-h] [--version]\n",
      "               reference reads\n",
      "\n",
      "Rebaler: reference-based long read assemblies of bacterial genomes\n",
      "\n",
      "Positional arguments:\n",
      "  reference               FASTA file of reference assembly\n",
      "  reads                   FASTA/FASTQ file of long reads\n",
      "\n",
      "Optional arguments:\n",
      "  -t THREADS, --threads THREADS\n",
      "                          Number of threads to use for alignment and polishing\n",
      "                          (default: 2)\n",
      "  --keep                  Do not delete temp directory of intermediate files\n",
      "                          (default: delete temp directory)\n",
      "  --random                If a part of the reference is missing, replace it\n",
      "                          with random sequence (default: leave it as the\n",
      "                          reference sequence)\n",
      "\n",
      "Help:\n",
      "  -h, --help              Show this help message and exit\n",
      "  --version               Show program's version number and exit\n"
     ]
    }
   ],
   "source": [
    "rebaler -h"
   ]
  },
  {
   "cell_type": "code",
   "execution_count": 4,
   "metadata": {
    "collapsed": true
   },
   "outputs": [
    {
     "name": "stdout",
     "output_type": "stream",
     "text": [
      "\n",
      "\n",
      "\u001b[93m\u001b[1m\u001b[4mLoading reference\u001b[0m (2018-11-10 08:24:32)\n",
      "    This reference sequence will be used as a template for the Rebaler\n",
      "assembly.\n",
      "\n",
      "\u001b[1m\u001b[4mReference contig   Circular      Length\u001b[0m\n",
      "NZ_CP010867.1      no         2,183,395\n",
      "\n",
      "\n",
      "\u001b[93m\u001b[1m\u001b[4mBuilding unpolished assembly\u001b[0m (2018-11-10 08:24:32)\n",
      "    Rebaler first aligns long reads to the reference using minimap2. It then\n",
      "selects high quality alignments and replaces the reference sequence with the\n",
      "corresponding read sequence. This creates an unpolished assembly made directly\n",
      "from read fragments, similar to what would be produced by miniasm.\n",
      "\n",
      "Loading reads...                             3,720 reads\n",
      "Aligning reads to reference with minimap2... 1,274 initial alignments\n",
      "                                             2.43x depth\n",
      "Culling alignments to a non-redundant set... 343 alignments remain\n",
      "\n",
      "Constructing unpolished assembly:\n",
      "\n",
      "NZ_CP010867.1:\n",
      "\u001b[31mreference(+):0-9\u001b[0m → \u001b[32m603a0efb(+):0-4373\u001b[0m → \u001b[32mbbfedfc3(-):4309-6274\u001b[0m → \u001b[31mreference(+):6146-7927\u001b[0m → \u001b[32mb04a9b7e(-):0-380\u001b[0m → \u001b[31mreference(+):8307-8561\u001b[0m → \u001b[32m49a406a8(+):0-192\u001b[0m → \u001b[31mreference(+):8752-10005\u001b[0m → \u001b[32m0e9d2aaf(-):0-3701\u001b[0m → \u001b[32md502d267(+):1403-5288\u001b[0m → \u001b[32m030a130b(-):0-4022\u001b[0m → \u001b[32m716587b8(+):0-689\u001b[0m → \u001b[31mreference(+):22019-23150\u001b[0m → \u001b[32m3ed7247b(-):0-21\u001b[0m → \u001b[32m030a130b(-):0-4022\u001b[0m → \u001b[32m716587b8(+):0-689\u001b[0m → \u001b[31mreference(+):27853-31079\u001b[0m → \u001b[32mda384eb6(-):0-2574\u001b[0m → \u001b[32me1e17da7(-):371-3058\u001b[0m → \u001b[32mbe4dba3c(+):0-11865\u001b[0m → \u001b[32m4e1689c4(+):0-8932\u001b[0m → \u001b[32m93fc8d1f(+):1394-1783\u001b[0m → \u001b[31mreference(+):56750-57730\u001b[0m → \u001b[32m7713b5ec(+):0-5398\u001b[0m → \u001b[32m51a03983(+):0-9722\u001b[0m → \u001b[32mf37debaf(-):4971-5000\u001b[0m → \u001b[32m4c3e8632(-):0-24631\u001b[0m → \u001b[32md678a170(-):3826-16259\u001b[0m → \u001b[32m8409052d(-):0-7207\u001b[0m → \u001b[32m81bb78b5(+):1015-4767\u001b[0m → \u001b[32m1a1199f2(+):0-7022\u001b[0m → \u001b[32mdd29d36a(+):5157-13420\u001b[0m → \u001b[32md6fb6e73(+):1706-6233\u001b[0m → \u001b[32mc5a9326b(-):0-2962\u001b[0m → \u001b[32m6fa36f15(+):35-1542\u001b[0m → \u001b[32md816605c(+):302-2889\u001b[0m → \u001b[31mreference(+):145784-146063\u001b[0m → \u001b[32m9e31dc26(+):0-259\u001b[0m → \u001b[31mreference(+):146323-146710\u001b[0m → \u001b[32ma4ae8745(+):0-1827\u001b[0m → \u001b[32m578d1039(-):0-8028\u001b[0m → \u001b[32m50893b42(+):694-1201\u001b[0m → \u001b[31mreference(+):156914-157193\u001b[0m → \u001b[32m873efdd4(+):0-1050\u001b[0m → \u001b[31mreference(+):158241-165953\u001b[0m → \u001b[32m3ed7247b(-):0-919\u001b[0m → \u001b[31mreference(+):166857-167760\u001b[0m → \u001b[32m4161d088(-):0-1079\u001b[0m → \u001b[32m9776b1d8(-):726-920\u001b[0m → \u001b[32mca4035a1(-):0-818\u001b[0m → \u001b[32m668dac6f(-):0-1794\u001b[0m → \u001b[32md9ec2650(-):589-955\u001b[0m → \u001b[31mreference(+):171994-173067\u001b[0m → \u001b[32m5b046080(-):0-894\u001b[0m → \u001b[32m5f40b400(-):0-2638\u001b[0m → \u001b[32m0b586fe9(+):606-9741\u001b[0m → \u001b[32mb16ed25f(+):0-1485\u001b[0m → \u001b[31mreference(+):186762-186871\u001b[0m → \u001b[32m4560cff2(-):0-375\u001b[0m → \u001b[31mreference(+):187249-187349\u001b[0m → \u001b[32mcaad85fe(+):0-2461\u001b[0m → \u001b[31mreference(+):189772-192107\u001b[0m → \u001b[32mb45e59a2(+):0-200\u001b[0m → \u001b[31mreference(+):192301-193584\u001b[0m → \u001b[32m3c1f674c(-):0-340\u001b[0m → \u001b[32md6a225a0(-):0-1053\u001b[0m → \u001b[32mb845df6f(-):0-8938\u001b[0m → \u001b[32m5296a5d6(-):943-1668\u001b[0m → \u001b[32m380f8b4b(+):0-5966\u001b[0m → \u001b[32m0d1f5059(+):0-7407\u001b[0m → \u001b[32m292ced49(+):787-922\u001b[0m → \u001b[31mreference(+):217435-217574\u001b[0m → \u001b[32mefa7f65b(+):0-356\u001b[0m → \u001b[31mreference(+):217933-225436\u001b[0m → \u001b[32m7bf498f4(+):0-2039\u001b[0m → \u001b[32mc7b57585(+):177-594\u001b[0m → \u001b[32m23e3afc9(-):0-1568\u001b[0m → \u001b[32ma21b8151(-):0-21019\u001b[0m → \u001b[32m00036b91(+):5944-7561\u001b[0m → \u001b[32m4e035a63(-):198-725\u001b[0m → \u001b[31mreference(+):251929-255711\u001b[0m → \u001b[32m7dbb9b6e(-):0-888\u001b[0m → \u001b[31mreference(+):256581-258956\u001b[0m → \u001b[32m1b1acae3(+):0-868\u001b[0m → \u001b[32maf193cee(+):0-17169\u001b[0m → \u001b[32m6f26f044(-):5354-7543\u001b[0m → \u001b[32m822353a8(+):0-2536\u001b[0m → \u001b[32m69f7e684(-):0-1060\u001b[0m → \u001b[31mreference(+):281655-281987\u001b[0m → \u001b[32m285f8664(-):0-1350\u001b[0m → \u001b[32m4cc8a6c9(-):412-6258\u001b[0m → \u001b[32m934fc0ab(-):0-31125\u001b[0m → \u001b[32m70d4b241(+):1192-9217\u001b[0m → \u001b[32m04aa56d5(+):0-9480\u001b[0m → \u001b[32m9af6565e(-):4921-6625\u001b[0m → \u001b[32md19ae5fb(-):735-9032\u001b[0m → \u001b[32mbc0f698b(-):0-13666\u001b[0m → \u001b[32m954bb6ff(+):0-10716\u001b[0m → \u001b[32m10471857(+):5797-7345\u001b[0m → \u001b[32mefa346ae(+):0-3191\u001b[0m → \u001b[32m2f63a905(+):448-3625\u001b[0m → \u001b[31mreference(+):378139-379787\u001b[0m → \u001b[32m84b8e33e(+):0-1362\u001b[0m → \u001b[31mreference(+):381131-387730\u001b[0m → \u001b[32m41758f5e(-):0-2579\u001b[0m → \u001b[32m85dda417(+):0-4852\u001b[0m → \u001b[31mreference(+):394861-395391\u001b[0m → \u001b[32m3ed7247b(-):0-21\u001b[0m → \u001b[32m030a130b(-):0-3992\u001b[0m → \u001b[32maf305f5a(-):1257-15141\u001b[0m → \u001b[32mb9f0966d(+):4338-18561\u001b[0m → \u001b[32mb9707264(-):327-953\u001b[0m → \u001b[32m8b9cf567(-):0-3514\u001b[0m → \u001b[32md189c443(-):523-5765\u001b[0m → \u001b[32m637814cb(-):3250-4788\u001b[0m → \u001b[32ma3202be5(-):0-7099\u001b[0m → \u001b[31mreference(+):443395-445261\u001b[0m → \u001b[32me64f0b73(-):0-6133\u001b[0m → \u001b[31mreference(+):451328-453606\u001b[0m → \u001b[32m432c9d25(-):0-5406\u001b[0m → \u001b[32m5a730162(-):0-1412\u001b[0m → \u001b[32mc0cbf318(-):0-2613\u001b[0m → \u001b[31mreference(+):462756-464571\u001b[0m → \u001b[32m030a130b(-):0-4082\u001b[0m → \u001b[32m9baf06c2(+):2107-3826\u001b[0m → \u001b[32m73ed078a(-):0-6484\u001b[0m → \u001b[32me2018f15(-):1688-6324\u001b[0m → \u001b[32m4f08b2f9(+):463-1280\u001b[0m → \u001b[31mreference(+):482216-485281\u001b[0m → \u001b[32m8b830574(+):0-9626\u001b[0m → \u001b[32m3d63b4ba(-):12-8690\u001b[0m → \u001b[32m12092ca5(-):0-3007\u001b[0m → \u001b[32m80590b7e(+):0-7462\u001b[0m → \u001b[32mf5f58355(-):3180-4188\u001b[0m → \u001b[31mreference(+):514572-515058\u001b[0m → \u001b[32m1b183fed(-):0-736\u001b[0m → \u001b[32m03293295(+):449-1313\u001b[0m → \u001b[32m9131f53c(+):0-1968\u001b[0m → \u001b[31mreference(+):518582-518987\u001b[0m → \u001b[32m877c7210(-):0-29992\u001b[0m → \u001b[31mreference(+):548402-549228\u001b[0m → \u001b[32mb781bc03(-):0-3085\u001b[0m → \u001b[32mda8afcf0(-):966-5355\u001b[0m → \u001b[32me9b135fc(-):601-3272\u001b[0m → \u001b[32md811eb83(+):0-2829\u001b[0m → \u001b[32ma0227f50(-):901-1920\u001b[0m → \u001b[31mreference(+):562772-568113\u001b[0m → \u001b[32m3cc62188(-):0-3190\u001b[0m → \u001b[32m30c14cea(-):1715-2568\u001b[0m → \u001b[32m1c700285(+):659-819\u001b[0m → \u001b[31mreference(+):572176-573399\u001b[0m → \u001b[32ma8cb7c65(+):0-1318\u001b[0m → \u001b[31mreference(+):574686-575153\u001b[0m → \u001b[32m2d02cdc0(+):0-1243\u001b[0m → \u001b[31mreference(+):576424-576725\u001b[0m → \u001b[32m531c6d3e(+):0-1001\u001b[0m → \u001b[32m94f7954c(-):0-6118\u001b[0m → \u001b[32m4a02dad4(-):780-1079\u001b[0m → \u001b[31mreference(+):584082-586973\u001b[0m → \u001b[32m0f905446(+):0-9093\u001b[0m → \u001b[32m9cda6b6d(-):0-1716\u001b[0m → \u001b[32ma9fd98ee(-):593-8434\u001b[0m → \u001b[31mreference(+):605028-605130\u001b[0m → \u001b[32m4c088e9e(-):0-985\u001b[0m → \u001b[31mreference(+):606092-611204\u001b[0m → \u001b[32m0eb2f3ce(+):0-2193\u001b[0m → \u001b[31mreference(+):613422-614346\u001b[0m → \u001b[32me6a8558d(+):0-805\u001b[0m → \u001b[31mreference(+):615136-615493\u001b[0m → \u001b[32med9b4282(+):0-3144\u001b[0m → \u001b[31mreference(+):618568-628643\u001b[0m → \u001b[32m68233387(-):0-991\u001b[0m → \u001b[31mreference(+):629605-633624\u001b[0m → \u001b[32mae0510d5(-):0-10590\u001b[0m → \u001b[31mreference(+):644032-644798\u001b[0m → \u001b[32m77699bc9(-):0-2460\u001b[0m → \u001b[32me66c6223(-):397-5335\u001b[0m → \u001b[31mreference(+):651994-653274\u001b[0m → \u001b[32m7dbf1954(-):0-347\u001b[0m → \u001b[31mreference(+):653613-655378\u001b[0m → \u001b[32mdadafb98(+):0-2919\u001b[0m → \u001b[32m590271a5(+):0-15857\u001b[0m → \u001b[32m5207798d(+):4049-5484\u001b[0m → \u001b[32ma8c0a667(-):0-3502\u001b[0m → \u001b[32mefbd9e02(+):0-614\u001b[0m → \u001b[32mf667a151(+):0-4136\u001b[0m → \u001b[32m867799b0(-):2151-3009\u001b[0m → \u001b[32md6ab04d1(+):0-6372\u001b[0m → \u001b[32m4b358472(+):465-1210\u001b[0m → \u001b[32m026ac0e5(+):0-3710\u001b[0m → \u001b[32meba28607(-):0-1919\u001b[0m → \u001b[31mreference(+):696802-696855\u001b[0m → \u001b[32m9115b2c7(-):0-601\u001b[0m → \u001b[31mreference(+):697433-701287\u001b[0m → \u001b[32m7fb8ce80(-):0-495\u001b[0m → \u001b[31mreference(+):701790-705089\u001b[0m → \u001b[32m5689b689(-):0-3811\u001b[0m → \u001b[32m54361ac2(+):0-4197\u001b[0m → \u001b[32m61f9c538(-):0-8618\u001b[0m → \u001b[32md4bba953(-):0-826\u001b[0m → \u001b[31mreference(+):722488-723998\u001b[0m → \u001b[32m0a5b3a89(-):0-360\u001b[0m → \u001b[31mreference(+):724347-724421\u001b[0m → \u001b[32me8d3cce0(+):0-3976\u001b[0m → \u001b[31mreference(+):728346-738693\u001b[0m → \u001b[32mda79f294(+):0-3493\u001b[0m → \u001b[32me393ea1b(+):0-1453\u001b[0m → \u001b[32m365ef82e(+):0-2414\u001b[0m → \u001b[32md9e3bad7(-):1004-3442\u001b[0m → \u001b[31mreference(+):748236-753368\u001b[0m → \u001b[32m96fae891(-):0-6910\u001b[0m → \u001b[32m790e565d(+):0-44506\u001b[0m → \u001b[32m59d1525b(+):2666-6261\u001b[0m → \u001b[32m1b7e8031(-):0-15970\u001b[0m → \u001b[31mreference(+):821609-822044\u001b[0m → \u001b[32mbc1b1156(-):0-23644\u001b[0m → \u001b[32m66dc8fa3(+):0-21598\u001b[0m → \u001b[32m3cc8434a(-):1882-8537\u001b[0m → \u001b[32m0362c284(-):0-32662\u001b[0m → \u001b[32m38cb9079(+):9750-26215\u001b[0m → \u001b[32m8c7b54dc(-):6111-9367\u001b[0m → \u001b[32m796c4e2e(-):0-4592\u001b[0m → \u001b[31mreference(+):928012-930114\u001b[0m → \u001b[32m1982d4e8(+):0-5241\u001b[0m → \u001b[31mreference(+):935164-935939\u001b[0m → \u001b[32m58c103ad(+):0-92\u001b[0m → \u001b[32mca8ef911(-):0-8504\u001b[0m → \u001b[32me0ad648b(-):672-2693\u001b[0m → \u001b[31mreference(+):946082-946626\u001b[0m → \u001b[32m4de7adb1(+):0-4475\u001b[0m → \u001b[32mfa9b907a(-):1222-3766\u001b[0m → \u001b[31mreference(+):953525-955941\u001b[0m → \u001b[32m443ad311(-):0-586\u001b[0m → \u001b[31mreference(+):956516-957780\u001b[0m → \u001b[32m779af075(+):0-8860\u001b[0m → \u001b[32m751c52aa(+):3450-3882\u001b[0m → \u001b[32m771b05f4(+):0-5282\u001b[0m → \u001b[31mreference(+):971969-972137\u001b[0m → \u001b[32mc45fe864(+):0-4950\u001b[0m → \u001b[32mc1c8bade(+):1506-17789\u001b[0m → \u001b[32md8000d1d(+):3942-8430\u001b[0m → \u001b[32ma5d4187b(-):0-539\u001b[0m → \u001b[31mreference(+):996928-997049\u001b[0m → \u001b[32md2d033e8(-):0-240\u001b[0m → \u001b[32m813508e6(+):0-15573\u001b[0m → \u001b[32mf8b4fb49(-):452-5624\u001b[0m → \u001b[31mreference(+):1017460-1018502\u001b[0m → \u001b[32m79cff134(-):0-417\u001b[0m → \u001b[31mreference(+):1018920-1020569\u001b[0m → \u001b[32m769e6284(+):0-9590\u001b[0m → \u001b[32m661b6f86(-):6620-15753\u001b[0m → \u001b[32mcdb45e19(+):726-4212\u001b[0m → \u001b[31mreference(+):1040816-1041566\u001b[0m → \u001b[32m1afa2f50(+):0-31254\u001b[0m → \u001b[32m08e580a4(+):0-12470\u001b[0m → \u001b[32med63663c(-):1467-50367\u001b[0m → \u001b[32me1fa2841(-):10617-11677\u001b[0m → \u001b[32m4640e1de(+):583-2063\u001b[0m → \u001b[32mab0f2d23(+):0-5064\u001b[0m → \u001b[32m79431d1d(-):2243-30136\u001b[0m → \u001b[32mf3341ac3(-):20338-23783\u001b[0m → \u001b[32m820b8931(-):1973-8726\u001b[0m → \u001b[32m558ad487(+):0-1345\u001b[0m → \u001b[32ma3ad45b0(-):0-2411\u001b[0m → \u001b[31mreference(+):1180132-1180323\u001b[0m → \u001b[32m1d094eaf(-):0-18343\u001b[0m → \u001b[32m1a88b5fd(+):0-2746\u001b[0m → \u001b[32mb4e65d7b(+):1707-15512\u001b[0m → \u001b[32m01aca776(+):0-4187\u001b[0m → \u001b[31mreference(+):1217497-1218097\u001b[0m → \u001b[32m5a5206d1(-):0-3164\u001b[0m → \u001b[32m7ffa4691(-):0-3670\u001b[0m → \u001b[31mreference(+):1224622-1225064\u001b[0m → \u001b[32mc62b9e0f(-):0-1844\u001b[0m → \u001b[31mreference(+):1226852-1227249\u001b[0m → \u001b[32m5db237ee(-):0-1519\u001b[0m → \u001b[31mreference(+):1228770-1229200\u001b[0m → \u001b[32md2485a5f(-):0-8004\u001b[0m → \u001b[32m1bd493cf(-):1750-10149\u001b[0m → \u001b[32m16f71c24(-):0-10964\u001b[0m → \u001b[31mreference(+):1255348-1256164\u001b[0m → \u001b[32m8fe54b03(+):0-1416\u001b[0m → \u001b[31mreference(+):1257572-1259948\u001b[0m → \u001b[32mb980027b(+):0-6968\u001b[0m → \u001b[31mreference(+):1266493-1267771\u001b[0m → \u001b[32m94cd0ed5(+):0-11958\u001b[0m → \u001b[31mreference(+):1279338-1280761\u001b[0m → \u001b[32m78741607(-):0-3496\u001b[0m → \u001b[32mc93514e6(+):0-14685\u001b[0m → \u001b[32m4b26fec1(+):14-1350\u001b[0m → \u001b[32m89bc33e6(-):0-1165\u001b[0m → \u001b[31mreference(+):1300924-1303702\u001b[0m → \u001b[32m80fa93fd(-):0-2171\u001b[0m → \u001b[32m1f518fca(-):451-943\u001b[0m → \u001b[32mae08d0f1(-):0-6574\u001b[0m → \u001b[31mreference(+):1312794-1313625\u001b[0m → \u001b[32mc6bc1c7f(+):0-2372\u001b[0m → \u001b[32ma5faa06a(-):0-6052\u001b[0m → \u001b[32mbc610064(-):306-3157\u001b[0m → \u001b[32ma4fde00c(-):1866-5170\u001b[0m → \u001b[32m2d5a1f69(+):0-5794\u001b[0m → \u001b[32m9253cc73(+):0-6216\u001b[0m → \u001b[31mreference(+):1339434-1348162\u001b[0m → \u001b[32m816bf3d9(+):0-1673\u001b[0m → \u001b[31mreference(+):1349791-1350368\u001b[0m → \u001b[32m8db880ae(-):0-1573\u001b[0m → \u001b[31mreference(+):1351911-1352595\u001b[0m → \u001b[32mc8dbf5b8(+):0-6199\u001b[0m → \u001b[32mdd0123c8(+):0-41354\u001b[0m → \u001b[32m038eb7c7(+):0-15051\u001b[0m → \u001b[32m328d5d15(+):7016-21413\u001b[0m → \u001b[32m027e72d6(-):0-3327\u001b[0m → \u001b[32mb8db5439(+):0-5222\u001b[0m → \u001b[32mcae22578(+):0-2400\u001b[0m → \u001b[31mreference(+):1436670-1439149\u001b[0m → \u001b[32md8df67e7(+):0-689\u001b[0m → \u001b[31mreference(+):1439834-1442373\u001b[0m → \u001b[32m55d977fd(-):0-2653\u001b[0m → \u001b[32m0ffd9ed6(-):519-7887\u001b[0m → \u001b[32m9a35e8e9(-):0-5057\u001b[0m → \u001b[31mreference(+):1456801-1463512\u001b[0m → \u001b[32m23b64cea(-):0-2886\u001b[0m → \u001b[32mdc807c72(-):1059-10194\u001b[0m → \u001b[31mreference(+):1475118-1479367\u001b[0m → \u001b[32mf93845d1(+):0-6902\u001b[0m → \u001b[32m972bb908(-):1143-8300\u001b[0m → \u001b[32m0daff334(+):0-3175\u001b[0m → \u001b[32m876237f6(-):2413-8403\u001b[0m → \u001b[32m7c28c1c6(+):2697-9662\u001b[0m → \u001b[32me7f3a2d6(+):0-5338\u001b[0m → \u001b[32m2ad28192(-):1337-2532\u001b[0m → \u001b[31mreference(+):1514627-1518116\u001b[0m → \u001b[32m6b245b9d(-):0-617\u001b[0m → \u001b[32m9b736fcf(+):0-3208\u001b[0m → \u001b[32m52bc04f0(-):350-14159\u001b[0m → \u001b[32m2ef6bf4c(+):0-20442\u001b[0m → \u001b[32mb73f7940(-):7426-30889\u001b[0m → \u001b[31mreference(+):1576243-1576486\u001b[0m → \u001b[32m5a09d48e(-):0-450\u001b[0m → \u001b[31mreference(+):1576977-1577078\u001b[0m → \u001b[32mf4304bfb(-):0-11365\u001b[0m → \u001b[32mf9d69a74(-):3114-11509\u001b[0m → \u001b[32m7087a99c(-):2128-15560\u001b[0m → \u001b[32m4211adca(+):0-8432\u001b[0m → \u001b[31mreference(+):1617025-1618655\u001b[0m → \u001b[32m0dfe92ff(+):0-1230\u001b[0m → \u001b[31mreference(+):1619885-1619896\u001b[0m → \u001b[32m4d5e275a(+):0-553\u001b[0m → \u001b[31mreference(+):1620445-1622686\u001b[0m → \u001b[32macaa4c07(-):0-8442\u001b[0m → \u001b[32m1266bea8(-):999-6358\u001b[0m → \u001b[32mc06020f6(-):4032-6154\u001b[0m → \u001b[32m18e084c6(-):0-3227\u001b[0m → \u001b[32m3ba3b923(-):0-5959\u001b[0m → \u001b[32m47ecb432(+):2880-7078\u001b[0m → \u001b[31mreference(+):1651096-1651238\u001b[0m → \u001b[32me64e0066(+):0-237\u001b[0m → \u001b[32m58be579d(+):0-3737\u001b[0m → \u001b[32m4ffe2f70(-):1414-14025\u001b[0m → \u001b[32m1422ab19(-):1424-8508\u001b[0m → \u001b[32m091c76f7(+):0-4086\u001b[0m → \u001b[32m7ec62ec1(+):0-3400\u001b[0m → \u001b[32m69fc0c7c(-):0-4699\u001b[0m → \u001b[32m42a175b8(+):0-10389\u001b[0m → \u001b[32me7aa5d48(-):144-3571\u001b[0m → \u001b[32mc24b535e(+):1498-29422\u001b[0m → \u001b[32mc1f4f9c7(-):0-15989\u001b[0m → \u001b[32m009b5d84(+):0-4856\u001b[0m → \u001b[32m0c02c0b6(+):2135-4677\u001b[0m → \u001b[31mreference(+):1748871-1750290\u001b[0m → \u001b[32m4fd03fe7(+):0-578\u001b[0m → \u001b[31mreference(+):1750863-1752146\u001b[0m → \u001b[32m5e75a2b1(-):0-13158\u001b[0m → \u001b[32m84479960(+):0-12930\u001b[0m → \u001b[32m26ad092e(-):1467-4060\u001b[0m → \u001b[32m91cb9401(-):1264-1851\u001b[0m → \u001b[32m8fd744e9(+):0-3673\u001b[0m → \u001b[32mec6df8d3(-):2527-4554\u001b[0m → \u001b[32m62d671d8(-):816-1411\u001b[0m → \u001b[32m67a70cc8(-):0-3229\u001b[0m → \u001b[31mreference(+):1790446-1794241\u001b[0m → \u001b[32mc0694e13(-):0-1499\u001b[0m → \u001b[31mreference(+):1795696-1796225\u001b[0m → \u001b[32m58387773(-):0-474\u001b[0m → \u001b[32mb037202f(+):38-1468\u001b[0m → \u001b[32ma7846503(+):0-8792\u001b[0m → \u001b[31mreference(+):1806556-1808411\u001b[0m → \u001b[32mb7228432(+):0-3609\u001b[0m → \u001b[31mreference(+):1811902-1813773\u001b[0m → \u001b[32m209afbb2(-):0-554\u001b[0m → \u001b[31mreference(+):1814335-1815584\u001b[0m → \u001b[32mc56192ed(-):0-914\u001b[0m → \u001b[31mreference(+):1816505-1817086\u001b[0m → \u001b[32m912dc27c(-):0-10433\u001b[0m → \u001b[32m94872ee7(+):1154-1317\u001b[0m → \u001b[31mreference(+):1827320-1829395\u001b[0m → \u001b[32mcf276c16(-):0-3852\u001b[0m → \u001b[32mfb94210e(-):0-9476\u001b[0m → \u001b[32me3a4d5f3(-):1098-11821\u001b[0m → \u001b[32mad234270(+):2523-12826\u001b[0m → \u001b[32mba22ba02(-):0-10398\u001b[0m → \u001b[32m3a2bf045(-):225-2892\u001b[0m → \u001b[32mf20d5a99(+):0-3850\u001b[0m → \u001b[31mreference(+):1878750-1880392\u001b[0m → \u001b[32m3c76a227(-):0-10241\u001b[0m → \u001b[32mab161bb6(-):7887-8994\u001b[0m → \u001b[32md095eb1a(-):0-5188\u001b[0m → \u001b[32ma865031b(-):774-4434\u001b[0m → \u001b[32me97cecc4(+):2436-2575\u001b[0m → \u001b[32m08da38b6(-):0-17441\u001b[0m → \u001b[32m530ea727(-):0-12629\u001b[0m → \u001b[32m116f1517(+):7675-10089\u001b[0m → \u001b[32mfd1f35c1(+):0-4382\u001b[0m → \u001b[32m49b47708(+):0-5701\u001b[0m → \u001b[32m5700cd04(+):0-2513\u001b[0m → \u001b[31mreference(+):1944300-1945216\u001b[0m → \u001b[32m45cbf04e(+):0-313\u001b[0m → \u001b[31mreference(+):1945511-1947613\u001b[0m → \u001b[32m066ac2bd(-):0-3178\u001b[0m → \u001b[31mreference(+):1950705-1954021\u001b[0m → \u001b[32m49472bb4(+):0-7287\u001b[0m → \u001b[32ma8130f5f(-):5264-16108\u001b[0m → \u001b[31mreference(+):1971585-1972339\u001b[0m → \u001b[32m8603496b(-):0-1358\u001b[0m → \u001b[31mreference(+):1973633-1974163\u001b[0m → \u001b[32mabbb657c(+):0-205\u001b[0m → \u001b[31mreference(+):1974378-1979757\u001b[0m → \u001b[32m7a63e698(+):0-1872\u001b[0m → \u001b[32m74eaf5c2(+):1428-4655\u001b[0m → \u001b[32mc5d5ad50(+):0-20210\u001b[0m → \u001b[32mdd233441(+):4994-13620\u001b[0m → \u001b[32m2d72cb89(-):2470-2475\u001b[0m → \u001b[32mdd233441(+):0-25307\u001b[0m → \u001b[32mf4080b15(-):0-2489\u001b[0m → \u001b[31mreference(+):2039329-2039985\u001b[0m → \u001b[32mb8b80c7d(-):0-30911\u001b[0m → \u001b[32m9c122994(-):1585-2169\u001b[0m → \u001b[32m26dc94e7(+):0-5221\u001b[0m → \u001b[32mc9616f29(-):0-5930\u001b[0m → \u001b[32m1fea2c2b(-):0-8972\u001b[0m → \u001b[32m4f26a033(+):5223-30119\u001b[0m → \u001b[32m548b6acb(-):2037-4917\u001b[0m → \u001b[32m7bb620ae(+):0-29424\u001b[0m → \u001b[32m5455ed0d(-):5953-16911\u001b[0m → \u001b[32mfd1b2568(+):5505-26446\u001b[0m → \u001b[31mreference(+):2175963-2176225\u001b[0m → \u001b[32m450b2e41(+):0-246\u001b[0m → \u001b[32m868b869c(-):0-1680\u001b[0m → \u001b[32mc83b55a7(-):181-372\u001b[0m → \u001b[32m603a0efb(+):0-5309\u001b[0m\n",
      "\n",
      "\n",
      "\u001b[93m\u001b[1m\u001b[4mPolishing assembly\u001b[0m (2018-11-10 08:24:53)\n",
      "    Rebaler now runs Racon to polish the miniasm assembly. It does multiple\n",
      "rounds of polishing to get the best consensus. Circular unitigs are rotated\n",
      "between rounds such that all parts (including the ends) are polished well.\n",
      "Assembly quality is measured by the sum of all read alignment scores.\n",
      "\n",
      "\u001b[1mPolish       Assembly          Mapping\u001b[0m\n",
      "\u001b[1m\u001b[4mround            size          quality\u001b[0m\n",
      "begin       2,247,207        6,571,681\n",
      "1           2,237,716        6,880,687\n",
      "2           2,238,209        6,966,891\n",
      "3           2,238,458        6,993,922\n",
      "\n",
      "Best polish: temp_rebaler_272/04_5_rotated.fasta\n",
      "\n",
      "Deleting temp directory temp_rebaler_272\n",
      "\n"
     ]
    }
   ],
   "source": [
    "rebaler -t 48 data/agalactiae/reference/NZ_CP010867.1_Ref.fasta data/agalactiae/reads.fastq > data/agalactiae/assembly_with_rebaler.fasta"
   ]
  },
  {
   "cell_type": "markdown",
   "metadata": {},
   "source": [
    "## Alignment with BLAST"
   ]
  },
  {
   "cell_type": "markdown",
   "metadata": {},
   "source": [
    "Basic Local Alignment Search Tool (BLAST) is a classic local sequence alignment, which compares nucleotide to sequence databases finding similarity regions between sequences. BLAST uses a heuristic algorithm. Therefore, there is no guarantee that BLAST finds the correct solution albeit it will calculate the significance of the results, proving a parameter to score the results obtained.\n",
    "\n",
    "The BLAST algorithm has three main stages: training (finds local matches), extension (alignment is extended on both sides of the words) and evaluation (evaluate the statistical significance of the resulting alignments and eliminates the inconsistent ones). For this, BLAST needs a database where the reference sequences (all in one FASTA file) are indexed for comparison. BLAST has many different commands available (https://www.ncbi.nlm.nih.gov/books/NBK279684/). However, we will focus on a few basic ones that may be useful for the user:\n",
    "\n",
    "| Option | Type | Description | Notes |\n",
    "| :------: | :----: | :-----------: | :-----: |\n",
    "| evalue | real | Expect value (E) for saving hits.(Default value = 10.0)| E-value: expected number of chance alignments; the smaller the E-value, the better the match. |\n",
    "| html | flag | Produce HTML output| . |\n",
    "| outfmt | string | Alignment pairwise| Can be additionally configured by indicating “length means” or “Pident means” to obtain the legth of alignments and the % of identical matches, respectively. For example: -outfmt 0 length means |\n",
    "\n",
    "Before proceeding to the alignment step, the user first needs to create a local database with the reference sequences among which the alignment is to be done. This can be done with the following arguments:"
   ]
  },
  {
   "cell_type": "code",
   "execution_count": 1,
   "metadata": {
    "collapsed": true
   },
   "outputs": [
    {
     "name": "stdout",
     "output_type": "stream",
     "text": [
      "\n",
      "\n",
      "Building a new DB, current time: 11/10/2018 08:31:38\n",
      "New DB name:   /home/jovyan/notebooks/data/metagenomics/reference/metagenomics_references_withnames.fasta\n",
      "New DB title:  data/metagenomics/reference/metagenomics_references_withnames.fasta\n",
      "Sequence type: Nucleotide\n",
      "Keep MBits: T\n",
      "Maximum file size: 1000000000B\n",
      "Adding sequences from FASTA; added 7 sequences in 0.0083971 seconds.\n"
     ]
    }
   ],
   "source": [
    "!makeblastdb -in data/metagenomics/reference/metagenomics_references_withnames.fasta -parse_seqids -dbtype nucl"
   ]
  },
  {
   "cell_type": "markdown",
   "metadata": {},
   "source": [
    "Once the local database is created, the user is ready to query it. The input is a FASTA file with unmapped sequences. To query the database, the following arguments can be used:"
   ]
  },
  {
   "cell_type": "code",
   "execution_count": null,
   "metadata": {
    "collapsed": true
   },
   "outputs": [],
   "source": [
    "!blastn -query data/metagenomics/sample.fasta -db /home/jovyan/notebooks/data/metagenomics/reference/metagenomics_references_withnames.fasta -task blastn -dust no -outfmt \"10 qseqid positive sseqid\" -max_hsps 1 -max_target_seqs 1 -num_threads 2 > blast_metagenomics.csv"
   ]
  },
  {
   "cell_type": "markdown",
   "metadata": {},
   "source": [
    "The outputs are generated as csv files, which makes easier for pandas package to be processed and to plot the results."
   ]
  },
  {
   "cell_type": "markdown",
   "metadata": {},
   "source": [
    "### References\n",
    "\n",
    "[Li H. and Durbin R. (2009) Fast and accurate short read alignment with Burrows-Wheeler Transform. Bioinformatics, 25:1754-60.](https://www.ncbi.nlm.nih.gov/pubmed/19451168)\n",
    "\n",
    "\n",
    "[Ryan Wick. Rebaler (GitHub repository)](https://github.com/rrwick/Rebaler)\n",
    "\n",
    "[Altschul SF, Gish W, Miller W, Myers EW, Lipman DJ: Basic local alignment search tool. J. Mol. Biol. 1990, 215, 403–410](https://www.sciencedirect.com/science/article/pii/S0022283605803602?via%3Dihub)"
   ]
  }
 ],
 "metadata": {
  "kernelspec": {
   "display_name": "Python 3",
   "language": "python",
   "name": "python3"
  },
  "language_info": {
   "codemirror_mode": {
    "name": "ipython",
    "version": 3
   },
   "file_extension": ".py",
   "mimetype": "text/x-python",
   "name": "python",
   "nbconvert_exporter": "python",
   "pygments_lexer": "ipython3",
   "version": "3.6.3"
  }
 },
 "nbformat": 4,
 "nbformat_minor": 2
}
