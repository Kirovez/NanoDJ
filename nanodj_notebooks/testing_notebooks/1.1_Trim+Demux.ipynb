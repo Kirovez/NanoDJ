{
 "cells": [
  {
   "cell_type": "markdown",
   "metadata": {},
   "source": [
    "## Adapter trimming and barcode demultiplexing with Porechop\n",
    "\n",
    "Some ONT applications can gain advantage of pooling (multiplexing) different samples by using sequence adapters to reduce the costs of the sequencing run. As a consequence, the results of the run will be a mixture of reads with different adapters tagging each sample. NanoDJ relies on .[Porechop](https://github.com/rrwick/Porechop) for finding and trimming ONT adapters and demultiplexing the barcoded ONT reads. Porechop commands and options are shown in the command usage:"
   ]
  },
  {
   "cell_type": "code",
   "execution_count": 1,
   "metadata": {
    "collapsed": true
   },
   "outputs": [
    {
     "name": "stdout",
     "output_type": "stream",
     "text": [
      "usage: porechop -i INPUT [-o OUTPUT]\n",
      "                [--format {auto,fasta,fastq,fasta.gz,fastq.gz}] [-v VERBOSITY]\n",
      "                [-t THREADS] [-b BARCODE_DIR]\n",
      "                [--barcode_threshold BARCODE_THRESHOLD]\n",
      "                [--barcode_diff BARCODE_DIFF] [--require_two_barcodes]\n",
      "                [--untrimmed] [--discard_unassigned]\n",
      "                [--adapter_threshold ADAPTER_THRESHOLD]\n",
      "                [--check_reads CHECK_READS] [--scoring_scheme SCORING_SCHEME]\n",
      "                [--end_size END_SIZE] [--min_trim_size MIN_TRIM_SIZE]\n",
      "                [--extra_end_trim EXTRA_END_TRIM]\n",
      "                [--end_threshold END_THRESHOLD] [--no_split]\n",
      "                [--discard_middle] [--middle_threshold MIDDLE_THRESHOLD]\n",
      "                [--extra_middle_trim_good_side EXTRA_MIDDLE_TRIM_GOOD_SIDE]\n",
      "                [--extra_middle_trim_bad_side EXTRA_MIDDLE_TRIM_BAD_SIDE]\n",
      "                [--min_split_read_size MIN_SPLIT_READ_SIZE] [-h] [--version]\n",
      "\n",
      "Porechop: a tool for finding adapters in Oxford Nanopore reads, trimming them\n",
      "from the ends and splitting reads with internal adapters\n",
      "\n",
      "Main options:\n",
      "  -i INPUT, --input INPUT\n",
      "                          FASTA/FASTQ of input reads or a directory which will\n",
      "                          be recursively searched for FASTQ files (required)\n",
      "  -o OUTPUT, --output OUTPUT\n",
      "                          Filename for FASTA or FASTQ of trimmed reads (if not\n",
      "                          set, trimmed reads will be printed to stdout)\n",
      "  --format {auto,fasta,fastq,fasta.gz,fastq.gz}\n",
      "                          Output format for the reads - if auto, the format\n",
      "                          will be chosen based on the output filename or the\n",
      "                          input read format (default: auto)\n",
      "  -v VERBOSITY, --verbosity VERBOSITY\n",
      "                          Level of progress information: 0 = none, 1 = some, 2\n",
      "                          = lots, 3 = full - output will go to stdout if reads\n",
      "                          are saved to a file and stderr if reads are printed\n",
      "                          to stdout (default: 1)\n",
      "  -t THREADS, --threads THREADS\n",
      "                          Number of threads to use for adapter alignment\n",
      "                          (default: 2)\n",
      "\n",
      "Barcode binning settings:\n",
      "  Control the binning of reads based on barcodes (i.e. barcode\n",
      "  demultiplexing)\n",
      "\n",
      "  -b BARCODE_DIR, --barcode_dir BARCODE_DIR\n",
      "                          Reads will be binned based on their barcode and\n",
      "                          saved to separate files in this directory\n",
      "                          (incompatible with --output)\n",
      "  --barcode_threshold BARCODE_THRESHOLD\n",
      "                          A read must have at least this percent identity to a\n",
      "                          barcode to be binned (default: 75.0)\n",
      "  --barcode_diff BARCODE_DIFF\n",
      "                          If the difference between a read's best barcode\n",
      "                          identity and its second-best barcode identity is\n",
      "                          less than this value, it will not be put in a\n",
      "                          barcode bin (to exclude cases which are too close to\n",
      "                          call) (default: 5.0)\n",
      "  --require_two_barcodes  Reads will only be put in barcode bins if they have\n",
      "                          a strong match for the barcode on both their start\n",
      "                          and end (default: a read can be binned with a match\n",
      "                          at its start or end)\n",
      "  --untrimmed             Bin reads but do not trim them (default: trim the\n",
      "                          reads)\n",
      "  --discard_unassigned    Discard unassigned reads (instead of creating a\n",
      "                          \"none\" bin) (default: False)\n",
      "\n",
      "Adapter search settings:\n",
      "  Control how the program determines which adapter sets are present\n",
      "\n",
      "  --adapter_threshold ADAPTER_THRESHOLD\n",
      "                          An adapter set has to have at least this percent\n",
      "                          identity to be labelled as present and trimmed off\n",
      "                          (0 to 100) (default: 90.0)\n",
      "  --check_reads CHECK_READS\n",
      "                          This many reads will be aligned to all possible\n",
      "                          adapters to determine which adapter sets are present\n",
      "                          (default: 10000)\n",
      "  --scoring_scheme SCORING_SCHEME\n",
      "                          Comma-delimited string of alignment scores: match,\n",
      "                          mismatch, gap open, gap extend (default: 3,-6,-5,-2)\n",
      "\n",
      "End adapter settings:\n",
      "  Control the trimming of adapters from read ends\n",
      "\n",
      "  --end_size END_SIZE     The number of base pairs at each end of the read\n",
      "                          which will be searched for adapter sequences\n",
      "                          (default: 150)\n",
      "  --min_trim_size MIN_TRIM_SIZE\n",
      "                          Adapter alignments smaller than this will be ignored\n",
      "                          (default: 4)\n",
      "  --extra_end_trim EXTRA_END_TRIM\n",
      "                          This many additional bases will be removed next to\n",
      "                          adapters found at the ends of reads (default: 2)\n",
      "  --end_threshold END_THRESHOLD\n",
      "                          Adapters at the ends of reads must have at least\n",
      "                          this percent identity to be removed (0 to 100)\n",
      "                          (default: 75.0)\n",
      "\n",
      "Middle adapter settings:\n",
      "  Control the splitting of read from middle adapters\n",
      "\n",
      "  --no_split              Skip splitting reads based on middle adapters\n",
      "                          (default: split reads when an adapter is found in\n",
      "                          the middle)\n",
      "  --discard_middle        Reads with middle adapters will be discarded\n",
      "                          (default: reads with middle adapters are split)\n",
      "                          (required for reads to be used with Nanopolish, this\n",
      "                          option is on by default when outputting reads into\n",
      "                          barcode bins)\n",
      "  --middle_threshold MIDDLE_THRESHOLD\n",
      "                          Adapters in the middle of reads must have at least\n",
      "                          this percent identity to be found (0 to 100)\n",
      "                          (default: 90.0)\n",
      "  --extra_middle_trim_good_side EXTRA_MIDDLE_TRIM_GOOD_SIDE\n",
      "                          This many additional bases will be removed next to\n",
      "                          middle adapters on their \"good\" side (default: 10)\n",
      "  --extra_middle_trim_bad_side EXTRA_MIDDLE_TRIM_BAD_SIDE\n",
      "                          This many additional bases will be removed next to\n",
      "                          middle adapters on their \"bad\" side (default: 100)\n",
      "  --min_split_read_size MIN_SPLIT_READ_SIZE\n",
      "                          Post-split read pieces smaller than this many base\n",
      "                          pairs will not be outputted (default: 1000)\n",
      "\n",
      "Help:\n",
      "  -h, --help              Show this help message and exit\n",
      "  --version               Show program's version number and exit\n"
     ]
    }
   ],
   "source": [
    "!porechop -h"
   ]
  },
  {
   "cell_type": "markdown",
   "metadata": {},
   "source": [
    "Basic Porechop command requires an input file (<font color='blue'>-i</font> option) and output filename (after the '<font color='blue'>></font>' symbol). Porechop finds the adapters and places the trimmed reads on the output.\n",
    "\n",
    "Demultiplexing can be done with the <font color='blue'>-b</font> BARCODE_DIR option instead of defining the output file for trimmed reads. Reads are distributed in different bins (files) depending on their barcodes and these files are placed on BARCODE_DIR directory. The user can also control the minimum match percentage of barcodes changing the threshold (<font color='blue'>--barcode_threshold</font>) and add more options as shown on Porechop usage page.\n",
    "\n",
    "The demultiplexing task can be in Albacore since 1.0 version. In this case, it is frequent to find that both algorithms disagree on the most appropriate bin for a read. Porechop can perform its own demultiplexing on the Albacore output, placing the reads in which both software disagree in a bin called 'none'.\n"
   ]
  },
  {
   "cell_type": "code",
   "execution_count": 2,
   "metadata": {
    "collapsed": true
   },
   "outputs": [
    {
     "name": "stdout",
     "output_type": "stream",
     "text": [
      "Error: could not find data/porechop/1_out.fastq\n"
     ]
    }
   ],
   "source": [
    "#Porechop data link available in github\n",
    "!porechop -i data/porechop/1_out.fastq -b data/porechop/demultiplexed --threads 2"
   ]
  },
  {
   "cell_type": "markdown",
   "metadata": {},
   "source": [
    "The following builds a plot that shows the run yield for each barcode. The x and y axes show the total number of reads and the total number of bases, repectively. The size of each point corresponds to the average read length of the reads for that specific barcode."
   ]
  },
  {
   "cell_type": "code",
   "execution_count": null,
   "metadata": {
    "collapsed": true
   },
   "outputs": [],
   "source": [
    "#!/usr/bin/python\n",
    "\n",
    "import sys\n",
    "import matplotlib\n",
    "import matplotlib.patches as mpatches\n",
    "import matplotlib.pyplot as plt\n",
    "from Bio import SeqIO"
   ]
  },
  {
   "cell_type": "code",
   "execution_count": null,
   "metadata": {
    "collapsed": true
   },
   "outputs": [],
   "source": [
    "matplotlib.rcParams['figure.figsize'] = (15, 10)\n",
    "\n",
    "barcode_dir = 'data/porechop/demultiplexed/'\n",
    "#Modify this list with an element per barcode (6 in the example)\n",
    "barcode_files = ['BC01', 'BC02', 'BC03', 'BC04', 'BC05', 'BC06']\n",
    "\n",
    "avg_lenghts = []\n",
    "bases_cnt = []\n",
    "read_cnt = []\n",
    "\n",
    "#Bin files parser\n",
    "def read_bin(filename):\n",
    "    read_lenghts = []\n",
    "    count = 0\n",
    "    for seq_record in SeqIO.parse(filename, 'fastq'):\n",
    "        read_lenghts.append(len(seq_record.seq))\n",
    "        count += 1\n",
    "\n",
    "    avg_lenghts.append(sum(read_lenghts)/len(read_lenghts))\n",
    "    bases_cnt.append(sum(read_lenghts))\n",
    "    read_cnt.append(count)\n",
    "\n",
    "for bin_file in barcode_files:\n",
    "    read_bin(barcode_dir + str(bin_file) + '.fastq')\n",
    "\n",
    "#One colour per barcode (6 + none colour in the example)\n",
    "colors = ['#F15854', '#5DA5DA', '#FAA43A', '#60BD68', '#F17CB0', '#B276B2', '#DECF3F']\n",
    "\n",
    "#Size of each point depending on the average read lengths\n",
    "s = [3.2**(n/1000) for n in avg_lenghts]\n",
    "\n",
    "#Draw the points and annotations\n",
    "fig, ax = plt.subplots()\n",
    "for index, barcode in enumerate(barcode_files, start=0):\n",
    "    ax.scatter(read_cnt[index],bases_cnt[index],s=s[index],c=colors[index],label=barcode, alpha=0.7, linewidth=3)\n",
    "    ax.annotate(int(avg_lenghts[index]), (read_cnt[index] - 7,bases_cnt[index] - 10**4.5))\n",
    "\n",
    "#Legend\n",
    "handles = [mpatches.Patch(color=color, label=barcode) for color, barcode, avg_length in zip(colors, barcode_files, avg_lenghts)]\n",
    "ax.legend(handles=handles, loc=4, prop={'size': 15}, fontsize=9, frameon=True)\n",
    "\n",
    "#Title and axes text\n",
    "plt.title('Yield per barcode and average read length', fontsize=18)\n",
    "plt.xlabel('Number of reads', fontsize=12)\n",
    "plt.ylabel('Total number of bases', fontsize=12)\n",
    "\n",
    "ax.grid(True)\n",
    "\n",
    "plt.show()"
   ]
  }
 ],
 "metadata": {
  "kernelspec": {
   "display_name": "Python 3",
   "language": "python",
   "name": "python3"
  },
  "language_info": {
   "codemirror_mode": {
    "name": "ipython",
    "version": 3
   },
   "file_extension": ".py",
   "mimetype": "text/x-python",
   "name": "python",
   "nbconvert_exporter": "python",
   "pygments_lexer": "ipython3",
   "version": "3.6.3"
  }
 },
 "nbformat": 4,
 "nbformat_minor": 2
}
