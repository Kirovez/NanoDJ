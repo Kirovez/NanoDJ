{
 "cells": [
  {
   "cell_type": "markdown",
   "metadata": {},
   "source": [
    "## Comparing assemblies with QUAST\n",
    "\n",
    "The assembly algorithms use different heuristic approaches to reconstruct complete chromosomes, correct errors in the reads and try to solve the problem of the repetitive regions of the genome. This is a challenge when using methods that evaluate the quality of an assembly and compare the different assemblies.\n",
    "\n",
    "[QUAST](https://github.com/ablab/quast) (QUality ASsessment Tool) evaluates and compares genome assemblies and provides various important metrics. It builds comparisons between multiple assemblies of a given genome and can also add the reference genome to the comparison (when available) to extract additional metrics. The QUAST output consists on metrics and graphs that facilitate the interpretation of the assembly results. QUAST also provides metrics to describe structural errors in contigs, reports a list of fully/partially covered genes for each assembly, and presents a series of statistics in a graphic form. However, QUAST does not report scaffolding statistics. The user will need other software to assess this. QUAST also has a [web interface](http://quast.bioinf.spbau.ru/) for comparison of assemblies, with the option to compare against a reference. \n",
    "\n",
    "QUAST adds methods and quality metrics to evaluate the assembly from existing software (Plantagora, GAGE, GeneMark.hmm and GlimmerHMM) generating statistics such as the well-known N50 (minimum contig length to cover at least 50% of the genome) and introducing new statistics like the NA50 (is N50 where the length of aligned blocks is counted instead of the contig lengths). To align the assemblies with a reference genome and evaluate the metrics according to the alignments, QUAST uses the Nucmer aligner. \n",
    "\n",
    "The common output of an assembly tool, such as Canu or Flye, consists on a directory with intermediate files and a final assembly or contigs files in FASTA format. QUAST command can take several contigs files in FASTA for each assembly that the user wants to include in the comparison. The user can also include the genome reference and specify the name of the directory for the output. Using test assemblies computed in previous notebooks, the following provides an example of using QUAST from NanoDJ."
   ]
  },
  {
   "cell_type": "code",
   "execution_count": 1,
   "metadata": {
    "collapsed": true
   },
   "outputs": [
    {
     "name": "stdout",
     "output_type": "stream",
     "text": [
      "QUAST: Quality Assessment Tool for Genome Assemblies\n",
      "Version: 5.0.2, 6f18572\n",
      "\n",
      "Usage: python /opt/conda/bin/quast.py [options] <files_with_contigs>\n",
      "\n",
      "Options:\n",
      "-o  --output-dir  <dirname>       Directory to store all result files [default: quast_results/results_<datetime>]\n",
      "-r                <filename>      Reference genome file\n",
      "-g  --features [type:]<filename>  File with genomic feature coordinates in the reference (GFF, BED, NCBI or TXT)\n",
      "                                  Optional 'type' can be specified for extracting only a specific feature type from GFF\n",
      "-m  --min-contig  <int>           Lower threshold for contig length [default: 500]\n",
      "-t  --threads     <int>           Maximum number of threads [default: 25% of CPUs]\n",
      "\n",
      "Advanced options:\n",
      "-s  --split-scaffolds                 Split assemblies by continuous fragments of N's and add such \"contigs\" to the comparison\n",
      "-l  --labels \"label, label, ...\"      Names of assemblies to use in reports, comma-separated. If contain spaces, use quotes\n",
      "-L                                    Take assembly names from their parent directory names\n",
      "-e  --eukaryote                       Genome is eukaryotic (primarily affects gene prediction)\n",
      "    --fungus                          Genome is fungal (primarily affects gene prediction)\n",
      "    --large                           Use optimal parameters for evaluation of large genomes\n",
      "                                      In particular, imposes '-e -m 3000 -i 500 -x 7000' (can be overridden manually)\n",
      "-k  --k-mer-stats                     Compute k-mer-based quality metrics (recommended for large genomes)\n",
      "                                      This may significantly increase memory and time consumption on large genomes\n",
      "    --k-mer-size                      Size of k used in --k-mer-stats [default: 101]\n",
      "    --circos                          Draw Circos plot\n",
      "-f  --gene-finding                    Predict genes using GeneMarkS (prokaryotes, default) or GeneMark-ES (eukaryotes, use --eukaryote)\n",
      "    --mgm                             Use MetaGeneMark for gene prediction (instead of the default finder, see above)\n",
      "    --glimmer                         Use GlimmerHMM for gene prediction (instead of the default finder, see above)\n",
      "    --gene-thresholds <int,int,...>   Comma-separated list of threshold lengths of genes to search with Gene Finding module\n",
      "                                      [default: 0,300,1500,3000]\n",
      "    --rna-finding                     Predict ribosomal RNA genes using Barrnap\n",
      "-b  --conserved-genes-finding         Count conserved orthologs using BUSCO (only on Linux)\n",
      "    --operons  <filename>             File with operon coordinates in the reference (GFF, BED, NCBI or TXT)\n",
      "    --est-ref-size <int>              Estimated reference size (for computing NGx metrics without a reference)\n",
      "    --contig-thresholds <int,int,...> Comma-separated list of contig length thresholds [default: 0,1000,5000,10000,25000,50000]\n",
      "-u  --use-all-alignments              Compute genome fraction, # genes, # operons in QUAST v1.* style.\n",
      "                                      By default, QUAST filters Minimap's alignments to keep only best ones\n",
      "-i  --min-alignment <int>             The minimum alignment length [default: 65]\n",
      "    --min-identity <float>            The minimum alignment identity (80.0, 100.0) [default: 95.0]\n",
      "-a  --ambiguity-usage <none|one|all>  Use none, one, or all alignments of a contig when all of them\n",
      "                                      are almost equally good (see --ambiguity-score) [default: one]\n",
      "    --ambiguity-score <float>         Score S for defining equally good alignments of a single contig. All alignments are sorted \n",
      "                                      by decreasing LEN * IDY% value. All alignments with LEN * IDY% < S * best(LEN * IDY%) are \n",
      "                                      discarded. S should be between 0.8 and 1.0 [default: 0.99]\n",
      "    --strict-NA                       Break contigs in any misassembly event when compute NAx and NGAx.\n",
      "                                      By default, QUAST breaks contigs only by extensive misassemblies (not local ones)\n",
      "-x  --extensive-mis-size  <int>       Lower threshold for extensive misassembly size. All relocations with inconsistency\n",
      "                                      less than extensive-mis-size are counted as local misassemblies [default: 1000]\n",
      "    --scaffold-gap-max-size  <int>    Max allowed scaffold gap length difference. All relocations with inconsistency\n",
      "                                      less than scaffold-gap-size are counted as scaffold gap misassemblies [default: 10000]\n",
      "    --unaligned-part-size  <int>      Lower threshold for detecting partially unaligned contigs. Such contig should have\n",
      "                                      at least one unaligned fragment >= the threshold [default: 500]\n",
      "    --skip-unaligned-mis-contigs      Do not distinguish contigs with >= 50% unaligned bases as a separate group\n",
      "                                      By default, QUAST does not count misassemblies in them\n",
      "    --fragmented                      Reference genome may be fragmented into small pieces (e.g. scaffolded reference) \n",
      "    --fragmented-max-indent  <int>    Mark translocation as fake if both alignments are located no further than N bases \n",
      "                                      from the ends of the reference fragments [default: 85]\n",
      "                                      Requires --fragmented option\n",
      "    --upper-bound-assembly            Simulate upper bound assembly based on the reference genome and reads\n",
      "    --upper-bound-min-con  <int>      Minimal number of 'connecting reads' needed for joining upper bound contigs into a scaffold\n",
      "                                      [default: 2 for mate-pairs and 1 for long reads]\n",
      "    --est-insert-size  <int>          Use provided insert size in upper bound assembly simulation [default: auto detect from reads or 255]\n",
      "    --plots-format  <str>             Save plots in specified format [default: pdf].\n",
      "                                      Supported formats: emf, eps, pdf, png, ps, raw, rgba, svg, svgz\n",
      "    --memory-efficient                Run everything using one thread, separately per each assembly.\n",
      "                                      This may significantly reduce memory consumption on large genomes\n",
      "    --space-efficient                 Create only reports and plots files. Aux files including .stdout, .stderr, .coords will not be created.\n",
      "                                      This may significantly reduce space consumption on large genomes. Icarus viewers also will not be built\n",
      "-1  --pe1     <filename>              File with forward paired-end reads (in FASTQ format, may be gzipped)\n",
      "-2  --pe2     <filename>              File with reverse paired-end reads (in FASTQ format, may be gzipped)\n",
      "    --pe12    <filename>              File with interlaced forward and reverse paired-end reads. (in FASTQ format, may be gzipped)\n",
      "    --mp1     <filename>              File with forward mate-pair reads (in FASTQ format, may be gzipped)\n",
      "    --mp2     <filename>              File with reverse mate-pair reads (in FASTQ format, may be gzipped)\n",
      "    --mp12    <filename>              File with interlaced forward and reverse mate-pair reads (in FASTQ format, may be gzipped)\n",
      "    --single  <filename>              File with unpaired short reads (in FASTQ format, may be gzipped)\n",
      "    --pacbio     <filename>           File with PacBio reads (in FASTQ format, may be gzipped)\n",
      "    --nanopore   <filename>           File with Oxford Nanopore reads (in FASTQ format, may be gzipped)\n",
      "    --ref-sam <filename>              SAM alignment file obtained by aligning reads to reference genome file\n",
      "    --ref-bam <filename>              BAM alignment file obtained by aligning reads to reference genome file\n",
      "    --sam     <filename,filename,...> Comma-separated list of SAM alignment files obtained by aligning reads to assemblies\n",
      "                                      (use the same order as for files with contigs)\n",
      "    --bam     <filename,filename,...> Comma-separated list of BAM alignment files obtained by aligning reads to assemblies\n",
      "                                      (use the same order as for files with contigs)\n",
      "                                      Reads (or SAM/BAM file) are used for structural variation detection and\n",
      "                                      coverage histogram building in Icarus\n",
      "    --sv-bedpe  <filename>            File with structural variations (in BEDPE format)\n",
      "\n",
      "Speedup options:\n",
      "    --no-check                        Do not check and correct input fasta files. Use at your own risk (see manual)\n",
      "    --no-plots                        Do not draw plots\n",
      "    --no-html                         Do not build html reports and Icarus viewers\n",
      "    --no-icarus                       Do not build Icarus viewers\n",
      "    --no-snps                         Do not report SNPs (may significantly reduce memory consumption on large genomes)\n",
      "    --no-gc                           Do not compute GC% and GC-distribution\n",
      "    --no-sv                           Do not run structural variation detection (make sense only if reads are specified)\n",
      "    --no-gzip                         Do not compress large output files\n",
      "    --no-read-stats                   Do not align reads to assemblies\n",
      "                                      Reads will be aligned to reference and used for coverage analysis,\n",
      "                                      upper bound assembly simulation, and structural variation detection.\n",
      "                                      Use this option if you do not need read statistics for assemblies.\n",
      "    --fast                            A combination of all speedup options except --no-check\n",
      "\n",
      "Other:\n",
      "    --silent                          Do not print detailed information about each step to stdout (log file is not affected)\n",
      "    --test                            Run QUAST on the data from the test_data folder, output to quast_test_output\n",
      "    --test-sv                         Run QUAST with structural variants detection on the data from the test_data folder,\n",
      "                                      output to quast_test_output\n",
      "-h  --help                            Print full usage message\n",
      "-v  --version                         Print version\n",
      "\n",
      "Online QUAST manual is available at http://quast.sf.net/manual\n"
     ]
    }
   ],
   "source": [
    "!quast.py -h"
   ]
  },
  {
   "cell_type": "markdown",
   "metadata": {},
   "source": [
    "The next command runs the QUAST analysis using the assemblies generated by Canu and Flye in previous notebooks. The <font color='blue'>-R</font> option specifies the reference genome and the <font color='blue'>-o</font> option is to indicate the output directory name:"
   ]
  },
  {
   "cell_type": "code",
   "execution_count": 2,
   "metadata": {
    "collapsed": true
   },
   "outputs": [
    {
     "name": "stdout",
     "output_type": "stream",
     "text": [
      "/opt/conda/lib/python3.6/site-packages/quast-5.0.2-py3.6.egg/EGG-INFO/scripts/quast.py data/sample/canu_output/sample.contigs.fasta data/sample/flye_output/scaffolds.fasta -l Canu,Flye -R data/sample/reference/NZ_CP010867.1_Ref.fasta -o data/sample/quast_output\n",
      "\n",
      "Version: 5.0.2, 6f18572\n",
      "\n",
      "System information:\n",
      "  OS: Linux-4.4.0-104-generic-x86_64-with-debian-stretch-sid (linux_64)\n",
      "  Python version: 3.6.3\n",
      "  CPUs number: 3\n",
      "\n",
      "Started: 2018-12-03 21:36:43\n",
      "\n",
      "Logging to /home/jovyan/notebooks/data/sample/quast_output/quast.log\n",
      "NOTICE: Maximum number of threads is set to 1 (use --threads option to set it manually)\n",
      "\n",
      "CWD: /home/jovyan/notebooks\n",
      "Main parameters: \n",
      "  MODE: default, threads: 1, minimum contig length: 500, minimum alignment length: 65, \\\n",
      "  ambiguity: one, threshold for extensive misassembly size: 1000\n",
      "\n",
      "Reference:\n",
      "  /home/jovyan/notebooks/data/sample/reference/NZ_CP010867.1_Ref.fasta ==> NZ_CP010867.1_Ref\n",
      "\n",
      "Contigs:\n",
      "  Pre-processing...\n",
      "  1  data/sample/canu_output/sample.contigs.fasta ==> Canu\n",
      "  2  data/sample/flye_output/scaffolds.fasta ==> Flye\n",
      "\n",
      "2018-12-03 21:36:44\n",
      "Running Basic statistics processor...\n",
      "  Reference genome:\n",
      "    NZ_CP010867.1_Ref.fasta, length = 2183395, num fragments = 1, GC % = 35.56\n",
      "  Contig files: \n",
      "    1  Canu\n",
      "    2  Flye\n",
      "  Calculating N50 and L50...\n",
      "    1  Canu, N50 = 16382, L50 = 6, Total length = 350875, GC % = 38.14, # N's per 100 kbp =  0.00\n",
      "    2  Flye, N50 = 48896, L50 = 6, Total length = 673695, GC % = 38.11, # N's per 100 kbp =  0.00\n",
      "  Drawing Nx plot...\n",
      "    saved to /home/jovyan/notebooks/data/sample/quast_output/basic_stats/Nx_plot.pdf\n",
      "  Drawing NGx plot...\n",
      "    saved to /home/jovyan/notebooks/data/sample/quast_output/basic_stats/NGx_plot.pdf\n",
      "  Drawing cumulative plot...\n",
      "    saved to /home/jovyan/notebooks/data/sample/quast_output/basic_stats/cumulative_plot.pdf\n",
      "  Drawing GC content plot...\n",
      "    saved to /home/jovyan/notebooks/data/sample/quast_output/basic_stats/GC_content_plot.pdf\n",
      "  Drawing Canu GC content plot...\n",
      "    saved to /home/jovyan/notebooks/data/sample/quast_output/basic_stats/Canu_GC_content_plot.pdf\n",
      "  Drawing Flye GC content plot...\n",
      "    saved to /home/jovyan/notebooks/data/sample/quast_output/basic_stats/Flye_GC_content_plot.pdf\n",
      "Done.\n",
      "\n",
      "2018-12-03 21:36:45\n",
      "Running Contig analyzer...\n",
      "  1  Canu\n",
      "  1  Logging to files /home/jovyan/notebooks/data/sample/quast_output/contigs_reports/contigs_report_Canu.stdout and contigs_report_Canu.stderr...\n",
      "  1  Aligning contigs to the reference\n",
      "  1  Analysis is finished.\n",
      "  2  Flye\n",
      "  2  Logging to files /home/jovyan/notebooks/data/sample/quast_output/contigs_reports/contigs_report_Flye.stdout and contigs_report_Flye.stderr...\n",
      "  2  Aligning contigs to the reference\n",
      "  2  Analysis is finished.\n",
      "  Creating total report...\n",
      "    saved to /home/jovyan/notebooks/data/sample/quast_output/contigs_reports/misassemblies_report.txt, misassemblies_report.tsv, and misassemblies_report.tex\n",
      "  Transposed version of total report...\n",
      "    saved to /home/jovyan/notebooks/data/sample/quast_output/contigs_reports/transposed_report_misassemblies.txt, transposed_report_misassemblies.tsv, and transposed_report_misassemblies.tex\n",
      "  Creating total report...\n",
      "    saved to /home/jovyan/notebooks/data/sample/quast_output/contigs_reports/unaligned_report.txt, unaligned_report.tsv, and unaligned_report.tex\n",
      "  Drawing misassemblies by types plot...\n",
      "    saved to /home/jovyan/notebooks/data/sample/quast_output/contigs_reports/misassemblies_plot.pdf\n",
      "  Drawing misassemblies FRCurve plot...\n",
      "    saved to /home/jovyan/notebooks/data/sample/quast_output/contigs_reports/misassemblies_frcurve_plot.pdf\n",
      "Done.\n",
      "\n",
      "2018-12-03 21:36:55\n",
      "Running NA-NGA calculation...\n",
      "  1  Canu, Largest alignment = 34879, NA50 = 7331, LA50 = 13\n",
      "  2  Flye, Largest alignment = 349, NA50 = None, LA50 = None\n",
      "  Drawing cumulative plot...\n",
      "    saved to /home/jovyan/notebooks/data/sample/quast_output/aligned_stats/cumulative_plot.pdf\n",
      "  Drawing NAx plot...\n",
      "    saved to /home/jovyan/notebooks/data/sample/quast_output/aligned_stats/NAx_plot.pdf\n",
      "  Drawing NGAx plot...\n",
      "    saved to /home/jovyan/notebooks/data/sample/quast_output/aligned_stats/NGAx_plot.pdf\n",
      "Done.\n",
      "\n",
      "2018-12-03 21:36:56\n",
      "Running Genome analyzer...\n",
      "  NOTICE: No file with genomic features were provided. Use the --features option if you want to specify it.\n",
      "\n",
      "  NOTICE: No file with operons were provided. Use the -O option if you want to specify it.\n",
      "  1  Canu\n",
      "  1  Analysis is finished.\n",
      "  2  Flye\n",
      "  2  Analysis is finished.\n",
      "  Drawing Genome fraction, % histogram...\n",
      "    saved to /home/jovyan/notebooks/data/sample/quast_output/genome_stats/genome_fraction_histogram.pdf\n",
      "Done.\n",
      "\n",
      "NOTICE: Genes are not predicted by default. Use --gene-finding or --glimmer option to enable it.\n",
      "\n",
      "2018-12-03 21:36:57\n",
      "Creating large visual summaries...\n",
      "This may take a while: press Ctrl-C to skip this step..\n",
      "  1 of 2: Creating Icarus viewers...\n",
      "  2 of 2: Creating PDF with all tables and plots...\n",
      "Done\n",
      "\n",
      "2018-12-03 21:36:59\n",
      "RESULTS:\n",
      "  Text versions of total report are saved to /home/jovyan/notebooks/data/sample/quast_output/report.txt, report.tsv, and report.tex\n",
      "  Text versions of transposed total report are saved to /home/jovyan/notebooks/data/sample/quast_output/transposed_report.txt, transposed_report.tsv, and transposed_report.tex\n",
      "  HTML version (interactive tables and plots) is saved to /home/jovyan/notebooks/data/sample/quast_output/report.html\n",
      "  PDF version (tables and plots) is saved to /home/jovyan/notebooks/data/sample/quast_output/report.pdf\n",
      "  Icarus (contig browser) is saved to /home/jovyan/notebooks/data/sample/quast_output/icarus.html\n",
      "  Log is saved to /home/jovyan/notebooks/data/sample/quast_output/quast.log\n",
      "\n",
      "Finished: 2018-12-03 21:36:59\n",
      "Elapsed time: 0:00:15.719033\n",
      "NOTICEs: 4; WARNINGs: 0; non-fatal ERRORs: 0\n",
      "\n",
      "Thank you for using QUAST!\n"
     ]
    }
   ],
   "source": [
    "!quast.py data/sample/canu_output/sample.contigs.fasta data/sample/flye_output/scaffolds.fasta \\\n",
    "         -l Canu,Flye \\\n",
    "         -R data/sample/reference/NZ_CP010867.1_Ref.fasta \\\n",
    "         -o data/sample/quast_output"
   ]
  },
  {
   "cell_type": "markdown",
   "metadata": {},
   "source": [
    "Once QUAST finishes the execution, the output files are stored under the output directory. Integrated in the notebook, QUAST will also show a summary of the genome statistics for the compared assemblies. However, QUAST will also create an HTML report that contains more details that can be viewed using an internet browser. Data tables and plots are also available in individual files."
   ]
  },
  {
   "cell_type": "code",
   "execution_count": 3,
   "metadata": {},
   "outputs": [
    {
     "name": "stdout",
     "output_type": "stream",
     "text": [
      "All statistics are based on contigs of size >= 500 bp, unless otherwise noted (e.g., \"# contigs (>= 0 bp)\" and \"Total length (>= 0 bp)\" include all contigs).\n",
      "\n",
      "Assembly                     Canu        Flye       \n",
      "# contigs (>= 0 bp)          47          18         \n",
      "# contigs (>= 1000 bp)       37          17         \n",
      "# contigs (>= 5000 bp)       19          17         \n",
      "# contigs (>= 10000 bp)      13          17         \n",
      "# contigs (>= 25000 bp)      3           12         \n",
      "# contigs (>= 50000 bp)      1           5          \n",
      "Total length (>= 0 bp)       351969      673695     \n",
      "Total length (>= 1000 bp)    346629      672995     \n",
      "Total length (>= 5000 bp)    306782      672995     \n",
      "Total length (>= 10000 bp)   263355      672995     \n",
      "Total length (>= 25000 bp)   124086      562163     \n",
      "Total length (>= 50000 bp)   63187       311898     \n",
      "# contigs                    43          18         \n",
      "Largest contig               63187       72403      \n",
      "Total length                 350875      673695     \n",
      "Reference length             2183395     2183395    \n",
      "GC (%)                       38.14       38.11      \n",
      "Reference GC (%)             35.56       35.56      \n",
      "N50                          16382       48896      \n",
      "NG50                         -           -          \n",
      "N75                          10848       33356      \n",
      "NG75                         -           -          \n",
      "L50                          6           6          \n",
      "LG50                         -           -          \n",
      "L75                          13          10         \n",
      "LG75                         -           -          \n",
      "# misassemblies              0           0          \n",
      "# misassembled contigs       0           0          \n",
      "Misassembled contigs length  0           0          \n",
      "# local misassemblies        3           0          \n",
      "# scaffold gap ext. mis.     0           0          \n",
      "# scaffold gap loc. mis.     0           0          \n",
      "# unaligned mis. contigs     11          15         \n",
      "# unaligned contigs          1 + 6 part  2 + 16 part\n",
      "Unaligned length             100311      541680     \n",
      "Genome fraction (%)          10.939      6.037      \n",
      "Duplication ratio            1.049       1.002      \n",
      "# N's per 100 kbp            0.00        0.00       \n",
      "# mismatches per 100 kbp     796.78      572.04     \n",
      "# indels per 100 kbp         1837.65     0.00       \n",
      "Largest alignment            34879       349        \n",
      "Total aligned length         244512      132015     \n",
      "NA50                         7331        -          \n",
      "NGA50                        -           -          \n",
      "NA75                         -           -          \n",
      "NGA75                        -           -          \n",
      "LA50                         13          -          \n",
      "LGA50                        -           -          \n",
      "LA75                         -           -          \n",
      "LGA75                        -           -          \n"
     ]
    }
   ],
   "source": [
    "!cat data/sample/quast_output/report.txt"
   ]
  },
  {
   "cell_type": "markdown",
   "metadata": {},
   "source": [
    "Generated plots are available in the subdirectories under the main output directory. Some of these plots are:"
   ]
  },
  {
   "cell_type": "code",
   "execution_count": 4,
   "metadata": {},
   "outputs": [
    {
     "name": "stdout",
     "output_type": "stream",
     "text": [
      "Canu_GC_content_plot.pdf  Flye_GC_content_plot.pdf  gc.icarus.txt  Nx_plot.pdf\n",
      "cumulative_plot.pdf\t  GC_content_plot.pdf\t    NGx_plot.pdf\n",
      "cumulative_plot.pdf  NAx_plot.pdf  NGAx_plot.pdf\n"
     ]
    }
   ],
   "source": [
    "!ls data/sample/quast_output/basic_stats/ && ls data/sample/quast_output/aligned_stats/"
   ]
  },
  {
   "cell_type": "markdown",
   "metadata": {},
   "source": [
    "The following is a Python code can be used to explore the generated plots listed above directly from the notebook."
   ]
  },
  {
   "cell_type": "code",
   "execution_count": 5,
   "metadata": {},
   "outputs": [
    {
     "data": {
      "image/png": "[encoded data removed]",
      "text/plain": [
       "<IPython.core.display.Image object>"
      ]
     },
     "execution_count": 5,
     "metadata": {},
     "output_type": "execute_result"
    }
   ],
   "source": [
    "from IPython.display import IFrame\n",
    "#Replace first argument of the IFrame function with the path of any PDF plot\n",
    "IFrame(\"data/sample/quast_output/basic_stats/cumulative_plot.pdf\", width=700, height=500)"
   ]
  },
  {
   "cell_type": "markdown",
   "metadata": {},
   "source": [
    "### Reference\n",
    "\n",
    "[1] Gurevich A., Saveliev V., Vyahhi N., Tesler G. QUAST: quality assessment tool for genome assemblies, Bioinformatics, Volume 29, Issue 8, 15 April 2013, Pages 1072–1075. DOI: https://doi.org/10.1093/bioinformatics/btt086\n"
   ]
  }
 ],
 "metadata": {
  "kernelspec": {
   "display_name": "Python 3",
   "language": "python",
   "name": "python3"
  },
  "language_info": {
   "codemirror_mode": {
    "name": "ipython",
    "version": 3
   },
   "file_extension": ".py",
   "mimetype": "text/x-python",
   "name": "python",
   "nbconvert_exporter": "python",
   "pygments_lexer": "ipython3",
   "version": "3.6.3"
  }
 },
 "nbformat": 4,
 "nbformat_minor": 2
}
