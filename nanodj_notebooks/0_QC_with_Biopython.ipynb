{
 "cells": [
  {
   "cell_type": "markdown",
   "metadata": {},
   "source": [
    "# Using Biopython\n",
    "\n",
    "![alt text](http://biopython.org/assets/images/biopython_logo_s.png \"Logo Title Text 1\")\n",
    "\n",
    "The first step after extracting the FASTA/FASTQ files from MinION data is performing the QC. There are several options for filtering or visualization. [BioPython](biopython.org/) is a module that provides tools for biological computation. Processing our data using Python and this module allows greater control when filtering or visualizing our data.\n",
    "\n",
    "In this notebook we will combine Biopython with other data science modules like pandas or matplotlib to improve our ability to analyze the MinION data.\n",
    "\n",
    "The first step is to build a pandas dataframe of our reads and its features.\n",
    "  "
   ]
  },
  {
   "cell_type": "code",
   "execution_count": 1,
   "metadata": {},
   "outputs": [],
   "source": [
    "#Biopython module imports for loading sequence files\n",
    "from Bio import SeqIO\n",
    "from Bio.SeqUtils import GC\n",
    "\n",
    "#Numpy and pandas to manage our data\n",
    "import numpy as np\n",
    "import pandas as pd\n",
    "\n",
    "#We will use reagular expressions for extract the read id\n",
    "import re"
   ]
  },
  {
   "cell_type": "code",
   "execution_count": 2,
   "metadata": {},
   "outputs": [],
   "source": [
    "#Function to build a pandas dataframe from a FASTA or FASTQ file\n",
    "def read_sequence_file(filename, format):\n",
    "    rows = []\n",
    "    columns = ['id', 'sequence', 'read_length', 'gc_content']\n",
    "    if(format == 'fastq'):\n",
    "        columns.append('avg_quality')\n",
    "    #Building each row with the read and its features\n",
    "    for seq_record in SeqIO.parse(filename, format):\n",
    "        if(format == 'fastq'):\n",
    "            quality_score = np.mean(seq_record.letter_annotations[\"phred_quality\"])\n",
    "        read_id = re.search('(^.+?)\\s', seq_record.description).group(1)\n",
    "        if(format == 'fastq'):\n",
    "            rows.append([read_id, seq_record.seq, len(seq_record.seq), GC(seq_record.seq), quality_score])\n",
    "        else:\n",
    "            rows.append([read_id, seq_record.seq, len(seq_record.seq), GC(seq_record.seq)])  \n",
    "        \n",
    "    df = pd.DataFrame(rows, columns=columns)\n",
    "    return df\n",
    "        \n",
    "seq_df = read_sequence_file('data/agalactiae/merged-output.fasta', 'fasta')"
   ]
  },
  {
   "cell_type": "markdown",
   "metadata": {},
   "source": [
    "We have used Biopython built-in functions to extract information of DNA sequences and now we have a dataframe with all the important features. Since we have our data organized as a pandas dataframe, we can generate visualizations using matplotlib:"
   ]
  },
  {
   "cell_type": "code",
   "execution_count": null,
   "metadata": {},
   "outputs": [],
   "source": [
    "#Using matplotlib to generate GC content histogram\n",
    "import matplotlib.mlab as mlab\n",
    "import matplotlib.pyplot as plt\n",
    "import matplotlib\n",
    "#Setting the plot size\n",
    "matplotlib.rcParams['figure.figsize'] = (9, 8)\n",
    "\n",
    "#Building histogram with the gc content column of the dataframe\n",
    "plt.hist(seq_df['gc_content'], bins=50, color='#ef8a62')\n",
    "plt.title('GC content histogram')\n",
    "plt.xlabel('GC')\n",
    "plt.ylabel('Count')\n",
    "plt.show()"
   ]
  },
  {
   "cell_type": "markdown",
   "metadata": {},
   "source": [
    "The main advantage of using matplotlib to visualize the data is the capability of customize our plots:"
   ]
  },
  {
   "cell_type": "code",
   "execution_count": null,
   "metadata": {},
   "outputs": [],
   "source": [
    "#We can customize the plot using the pre-defined style called “ggplot” to emulate ggplot (popular R vizualization package) style \n",
    "plt.style.use('seaborn-notebook')\n",
    "\n",
    "#On the plt.hist parameters we can set the number of bins and the bar color using labels as 'blue', 'red', 'yellow'... or using a RGB code.\n",
    "plt.hist(seq_df['read_length'], bins=50, color='#ef8a62')\n",
    "plt.title('Read length histogram')\n",
    "plt.xlabel('Read length in bp')\n",
    "plt.ylabel('Count')\n",
    "\n",
    "plt.show()"
   ]
  },
  {
   "cell_type": "code",
   "execution_count": null,
   "metadata": {},
   "outputs": [],
   "source": [
    "#Only works if input file is in FASTQ format\n",
    "plt.hist(seq_df['avg_quality'], bins=50, color='#ef8a62')\n",
    "plt.title('Average quality histogram')\n",
    "plt.xlabel('Average quality of the read')\n",
    "plt.ylabel('Count')\n",
    "\n",
    "plt.show()"
   ]
  },
  {
   "cell_type": "markdown",
   "metadata": {},
   "source": [
    "Pandas also allows us to create subsets of our data to get statistics or plot a read length histogram of a subset of reads with a GC content within a given range:"
   ]
  },
  {
   "cell_type": "code",
   "execution_count": 6,
   "metadata": {},
   "outputs": [
    {
     "data": {
      "text/html": [
       "<div>\n",
       "<table border=\"1\" class=\"dataframe\">\n",
       "  <thead>\n",
       "    <tr style=\"text-align: right;\">\n",
       "      <th></th>\n",
       "      <th>read_length</th>\n",
       "      <th>gc_content</th>\n",
       "      <th>avg_quality</th>\n",
       "    </tr>\n",
       "  </thead>\n",
       "  <tbody>\n",
       "    <tr>\n",
       "      <th>count</th>\n",
       "      <td>8006.000000</td>\n",
       "      <td>8006.000000</td>\n",
       "      <td>8006.000000</td>\n",
       "    </tr>\n",
       "    <tr>\n",
       "      <th>mean</th>\n",
       "      <td>12012.589308</td>\n",
       "      <td>49.261769</td>\n",
       "      <td>9.407477</td>\n",
       "    </tr>\n",
       "    <tr>\n",
       "      <th>std</th>\n",
       "      <td>27559.482411</td>\n",
       "      <td>10.611211</td>\n",
       "      <td>4.723721</td>\n",
       "    </tr>\n",
       "    <tr>\n",
       "      <th>min</th>\n",
       "      <td>5.000000</td>\n",
       "      <td>0.000000</td>\n",
       "      <td>1.800000</td>\n",
       "    </tr>\n",
       "    <tr>\n",
       "      <th>25%</th>\n",
       "      <td>934.250000</td>\n",
       "      <td>40.187881</td>\n",
       "      <td>6.520624</td>\n",
       "    </tr>\n",
       "    <tr>\n",
       "      <th>50%</th>\n",
       "      <td>3852.000000</td>\n",
       "      <td>53.203836</td>\n",
       "      <td>7.189041</td>\n",
       "    </tr>\n",
       "    <tr>\n",
       "      <th>75%</th>\n",
       "      <td>11589.750000</td>\n",
       "      <td>55.608322</td>\n",
       "      <td>11.845827</td>\n",
       "    </tr>\n",
       "    <tr>\n",
       "      <th>max</th>\n",
       "      <td>388351.000000</td>\n",
       "      <td>100.000000</td>\n",
       "      <td>22.241614</td>\n",
       "    </tr>\n",
       "  </tbody>\n",
       "</table>\n",
       "</div>"
      ],
      "text/plain": [
       "         read_length   gc_content  avg_quality\n",
       "count    8006.000000  8006.000000  8006.000000\n",
       "mean    12012.589308    49.261769     9.407477\n",
       "std     27559.482411    10.611211     4.723721\n",
       "min         5.000000     0.000000     1.800000\n",
       "25%       934.250000    40.187881     6.520624\n",
       "50%      3852.000000    53.203836     7.189041\n",
       "75%     11589.750000    55.608322    11.845827\n",
       "max    388351.000000   100.000000    22.241614"
      ]
     },
     "execution_count": 6,
     "metadata": {},
     "output_type": "execute_result"
    }
   ],
   "source": [
    "first_range_df = seq_df[(seq_df['gc_content'] > 30) & (seq_df['gc_content'] < 50)]\n",
    "second_range_df = seq_df[(seq_df['gc_content'] > 55) & (seq_df['gc_content'] < 80)]\n",
    "\n",
    "seq_df.describe()"
   ]
  },
  {
   "cell_type": "code",
   "execution_count": 7,
   "metadata": {},
   "outputs": [
    {
     "data": {
      "image/png": "[encoded data removed]",
      "text/plain": [
       "<matplotlib.figure.Figure at 0x7f6b756e49b0>"
      ]
     },
     "metadata": {},
     "output_type": "display_data"
    }
   ],
   "source": [
    "#Only works if input file is in FASTQ format\n",
    "f, axarr = plt.subplots(2)\n",
    "\n",
    "axarr[0].hist(first_range_df['avg_quality'], bins=50, color='#67a9cf')\n",
    "axarr[0].set_title('Qualities of reads with GC content in the two ranges')\n",
    "\n",
    "axarr[1].hist(second_range_df['avg_quality'], bins=50, color='#ef8a62')\n",
    "\n",
    "\n",
    "plt.show()"
   ]
  },
  {
   "cell_type": "code",
   "execution_count": 8,
   "metadata": {},
   "outputs": [
    {
     "data": {
      "image/png": "[encoded data removed]",
      "text/plain": [
       "<matplotlib.figure.Figure at 0x7f6b7571b048>"
      ]
     },
     "metadata": {},
     "output_type": "display_data"
    }
   ],
   "source": [
    "f, axarr = plt.subplots(2)\n",
    "\n",
    "axarr[0].hist(first_range_df['read_length'], bins=50, color='#67a9cf')\n",
    "axarr[0].set_title('Length of reads with GC content in the two ranges')\n",
    "\n",
    "axarr[1].hist(second_range_df['read_length'], bins=50, color='#ef8a62')\n",
    "\n",
    "\n",
    "plt.show()"
   ]
  }
 ],
 "metadata": {
  "kernelspec": {
   "display_name": "Python 3",
   "language": "python",
   "name": "python3"
  },
  "language_info": {
   "codemirror_mode": {
    "name": "ipython",
    "version": 3
   },
   "file_extension": ".py",
   "mimetype": "text/x-python",
   "name": "python",
   "nbconvert_exporter": "python",
   "pygments_lexer": "ipython3",
   "version": "3.6.3"
  }
 },
 "nbformat": 4,
 "nbformat_minor": 2
}
