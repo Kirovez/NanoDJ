{
 "cells": [
  {
   "cell_type": "markdown",
   "metadata": {},
   "source": [
    "## Basecalling\n",
    "\n",
    "The characteristic electric signals, also called events, are recorded in a digital file with FAST5 format. The FAST5 format is in fact HDF5, a very flexible data format for storing and manipulating data. These files contain not only the sequence events but also logs and metadata. For these to be understandable by us, the first step just after the sequencing is the translation of the electric signals generated into the nucleotide letters (in FASTQ/FASTA files), a step known as basecalling. \n",
    "\n",
    "###### NOTE:  Basecalling process is computationally-intensive in terms of memory and CPU. This task should be run on a GPU or a powerful enough machine to avoid overhead or long execution times.\n",
    "\n",
    "### Albacore\n",
    "\n",
    "For this step NanoDJ uses Albacore, the official basecaller for ONT data at the time of writing this notebook. Albacore uses neural networks and runs from the command line with some important indications or arguments such as: the place (directory) where the FAST5 files are, the location where we want the output to be delivered, the computer resources we want to use (number of computing threads), and specific information of the reagents employed for preparing the sample. "
   ]
  },
  {
   "cell_type": "code",
   "execution_count": null,
   "metadata": {
    "collapsed": true
   },
   "outputs": [],
   "source": [
    "read_fast5_basecaller.py -h"
   ]
  },
  {
   "cell_type": "markdown",
   "metadata": {},
   "source": [
    "In order to execute Albacore properly, the user should first know some features about the experiment, such as the flowcell and the sequencing kit that were used. The following command shows the name of the configuration files used in Albacore execution."
   ]
  },
  {
   "cell_type": "code",
   "execution_count": null,
   "metadata": {
    "collapsed": true
   },
   "outputs": [],
   "source": [
    "read_fast5_basecaller.py -l"
   ]
  },
  {
   "cell_type": "markdown",
   "metadata": {},
   "source": [
    "The main Albacore command runs the basecalling process. \n",
    "- **-i** :  Input files directory \n",
    "- **-r** : for recurive search\n",
    "- **-t** : is for available execution threads, \n",
    "- **-s** : is for the output directory and -o is for the output data formats.\n",
    "- **-o** : type format of the output\n",
    "- **-c** : specifies the configuration file to be used in the execution. This file should match one of the listed files that were printed with the command above."
   ]
  },
  {
   "cell_type": "markdown",
   "metadata": {},
   "source": [
    "#### REMARK: **Data should not be included in /data folder of this project (see \"Additional data\" section in README file)**\n"
   ]
  },
  {
   "cell_type": "code",
   "execution_count": 2,
   "metadata": {
    "collapsed": true
   },
   "outputs": [
    {
     "name": "stdout",
     "output_type": "stream",
     "text": [
      "| 50 of 50|##################################################|100% Time: 0:01:21\n"
     ]
    }
   ],
   "source": [
    "read_fast5_basecaller.py -i data/sample/fast5 \\\n",
    "                         -r \\\n",
    "                         -t 48 \\\n",
    "                         -s data/sample/albacore_output/ \\\n",
    "                         -o fastq,fast5 \\\n",
    "                         -c r94_450bps_linear.cfg\n"
   ]
  },
  {
   "cell_type": "markdown",
   "metadata": {},
   "source": [
    "Output files are often divided in more than one FASTQ/FASTA file. In order to perform QC, alignments or assemblies, the sequences need to be placed in one unique file. The user can easily join the output files using the following bash command:"
   ]
  },
  {
   "cell_type": "code",
   "execution_count": null,
   "metadata": {},
   "outputs": [],
   "source": [
    "cat data/sample/albacore_output/*.fastq > data/sample/reads.fastq"
   ]
  },
  {
   "cell_type": "markdown",
   "metadata": {},
   "source": [
    "### References\n",
    "\n",
    "<a id='albacore'>[1]</a> Oxford Nanopore Technology (2017, September 4). New basecaller now performs ‘raw basecalling’, for improved sequencing accuracy. URL \n",
    "https://nanoporetech.com/about-us/news/new-basecaller-now-performs-raw-basecalling-improved-sequencing-accuracy \n",
    "\n",
    "<a id='wick_et_al'>[2]</a> Wick R., Judd L.M. and Holt K.E. (2018, March 5). Comparison of Oxford Nanopore basecalling tools. GitHub. URL https://github.com/rrwick/Basecalling-comparison \n",
    "\n",
    "<a id='deNBI'>[3]</a> de.NBI Nanopore Training Course (2017). GitHub repository. URL https://denbi-nanopore-training-course.readthedocs.io/en/latest/index.html"
   ]
  }
 ],
 "metadata": {
  "kernelspec": {
   "display_name": "Bash",
   "language": "bash",
   "name": "bash"
  },
  "language_info": {
   "codemirror_mode": "shell",
   "file_extension": ".sh",
   "mimetype": "text/x-sh",
   "name": "bash"
  }
 },
 "nbformat": 4,
 "nbformat_minor": 2
}
