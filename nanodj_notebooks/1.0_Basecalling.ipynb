{
 "cells": [
  {
   "cell_type": "markdown",
   "metadata": {},
   "source": [
    "## Basecalling\n",
    "\n",
    "The characteristic electric signals, also called events, are recorded in a digital file with FAST5 format. The FAST5 format is in fact HDF5, a very flexible data format for storing and manipulating data. These files contain not only the sequence events but also logs and metadata. For these to be understandable by us, the first step just after the sequencing is the translation of the electric signals generated into the nucleotide letters (in FASTQ/FASTA files), a step known as basecalling. \n",
    "\n",
    "###### NOTE:  Basecalling process is computationally-intensive in terms of memory and CPU. This task should be run on a GPU or a powerful enough machine to avoid overhead or long execution times.\n",
    "\n",
    "### Albacore\n",
    "\n",
    "For this step NanoDJ uses Albacore, the official basecaller for ONT data at the time of writing this notebook. Albacore uses neural networks and runs from the command line with some important indications or arguments such as: the place (directory) where the FAST5 files are, the location where we want the output to be delivered, the computer resources we want to use (number of computing threads), and specific information of the reagents employed for preparing the sample. "
   ]
  },
  {
   "cell_type": "code",
   "execution_count": 1,
   "metadata": {
    "collapsed": true
   },
   "outputs": [
    {
     "name": "stdout",
     "output_type": "stream",
     "text": [
      "usage: read_fast5_basecaller.py [-h] [-l] [-v] [-i INPUT] -t WORKER_THREADS -s\n",
      "                                SAVE_PATH [--resume [X]] [-f FLOWCELL]\n",
      "                                [-k KIT] [--barcoding] [-c CONFIG]\n",
      "                                [-d DATA_PATH] [-b] [-r]\n",
      "                                [-n FILES_PER_BATCH_FOLDER] [-o OUTPUT_FORMAT]\n",
      "                                [-q READS_PER_FASTQ_BATCH]\n",
      "                                [--disable_filtering] [--disable_pings]\n",
      "\n",
      "ONT Albacore Sequencing Pipeline Software\n",
      "\n",
      "optional arguments:\n",
      "  -h, --help            show this help message and exit\n",
      "  -l, --list_workflows  List standard flowcell / kit combinations.\n",
      "  -v, --version         Print the software version.\n",
      "  -i INPUT, --input INPUT\n",
      "                        Folder containing read fast5 files (if not present,\n",
      "                        will expect file names on stdin).\n",
      "  -t WORKER_THREADS, --worker_threads WORKER_THREADS\n",
      "                        Number of worker threads to use.\n",
      "  -s SAVE_PATH, --save_path SAVE_PATH\n",
      "                        Path to save output.\n",
      "  --resume [X]          Resume previous run for the given save path. Optional\n",
      "                        parameter X is for debugging purposes only.\n",
      "  -f FLOWCELL, --flowcell FLOWCELL\n",
      "                        Flowcell used during the sequencing run.\n",
      "  -k KIT, --kit KIT     Kit used during the sequencing run.\n",
      "  --barcoding           Search for barcodes to demultiplex sequencing data.\n",
      "  -c CONFIG, --config CONFIG\n",
      "                        Optional configuration file to use.\n",
      "  -d DATA_PATH, --data_path DATA_PATH\n",
      "                        Optional path to model files.\n",
      "  -b, --debug           Output additional debug information to the log.\n",
      "  -r, --recursive       Recurse through subfolders for input data files.\n",
      "  -n FILES_PER_BATCH_FOLDER, --files_per_batch_folder FILES_PER_BATCH_FOLDER\n",
      "                        Maximum number of files in each batch subfolder. Set\n",
      "                        to 0 to disable batch subfolders.\n",
      "  -o OUTPUT_FORMAT, --output_format OUTPUT_FORMAT\n",
      "                        desired output format, can be fastq,fast5 or only one\n",
      "                        of these.\n",
      "  -q READS_PER_FASTQ_BATCH, --reads_per_fastq_batch READS_PER_FASTQ_BATCH\n",
      "                        number of reads per FastQ batch file. Set to 1 to\n",
      "                        receive one reads per file and file names which\n",
      "                        include the read ID. Set to 0 to have all reads per\n",
      "                        run ID written to one file.\n",
      "  --disable_filtering   Disable filtering into pass/fail folders\n",
      "  --disable_pings       Do not send summary information about the run\n"
     ]
    }
   ],
   "source": [
    "read_fast5_basecaller.py -h"
   ]
  },
  {
   "cell_type": "markdown",
   "metadata": {},
   "source": [
    "In order to execute Albacore properly, the user should first know some features about the experiment, such as the flowcell and the sequencing kit that were used. The following command shows the name of the configuration files used in Albacore execution."
   ]
  },
  {
   "cell_type": "code",
   "execution_count": 4,
   "metadata": {
    "collapsed": true
   },
   "outputs": [
    {
     "name": "stdout",
     "output_type": "stream",
     "text": [
      "Parsing config files in /opt/albacore.\n",
      "Available flowcell + kit combinations are:\n",
      "flowcell    kit         barcoding  config file\n",
      "FLO-MIN106  SQK-DCS108             r94_450bps_linear.cfg\n",
      "FLO-MIN106  SQK-LRK001             r94_450bps_linear.cfg\n",
      "FLO-MIN106  SQK-LSK108             r94_450bps_linear.cfg\n",
      "FLO-MIN106  SQK-LSK109             r94_450bps_linear.cfg\n",
      "FLO-MIN106  SQK-LWB001  included   r94_450bps_linear.cfg\n",
      "FLO-MIN106  SQK-LWP001             r94_450bps_linear.cfg\n",
      "FLO-MIN106  SQK-PBK004  included   r94_450bps_linear.cfg\n",
      "FLO-MIN106  SQK-PCS108             r94_450bps_linear.cfg\n",
      "FLO-MIN106  SQK-PSK004             r94_450bps_linear.cfg\n",
      "FLO-MIN106  SQK-RAB201  included   r94_450bps_linear.cfg\n",
      "FLO-MIN106  SQK-RAB204  included   r94_450bps_linear.cfg\n",
      "FLO-MIN106  SQK-RAD002             r94_450bps_linear.cfg\n",
      "FLO-MIN106  SQK-RAD003             r94_450bps_linear.cfg\n",
      "FLO-MIN106  SQK-RAD004             r94_450bps_linear.cfg\n",
      "FLO-MIN106  SQK-RAS201             r94_450bps_linear.cfg\n",
      "FLO-MIN106  SQK-RBK001  included   r94_450bps_linear.cfg\n",
      "FLO-MIN106  SQK-RBK004  included   r94_450bps_linear.cfg\n",
      "FLO-MIN106  SQK-RLB001  included   r94_450bps_linear.cfg\n",
      "FLO-MIN106  SQK-RLI001             r94_450bps_linear.cfg\n",
      "FLO-MIN106  SQK-RNA001             r941_70bps_rna_linear.cfg\n",
      "FLO-MIN106  SQK-RPB004  included   r94_450bps_linear.cfg\n",
      "FLO-MIN106  VSK-VBK001             r94_450bps_linear.cfg\n",
      "FLO-MIN106  VSK-VMK001  included   r94_450bps_linear.cfg\n",
      "FLO-MIN106  VSK-VSK001             r94_450bps_linear.cfg\n",
      "FLO-MIN107  SQK-DCS108             r95_450bps_linear.cfg\n",
      "FLO-MIN107  SQK-LRK001             r95_450bps_linear.cfg\n",
      "FLO-MIN107  SQK-LSK108             r95_450bps_linear.cfg\n",
      "FLO-MIN107  SQK-LSK109             r95_450bps_linear.cfg\n",
      "FLO-MIN107  SQK-LWB001  included   r95_450bps_linear.cfg\n",
      "FLO-MIN107  SQK-LWP001             r95_450bps_linear.cfg\n",
      "FLO-MIN107  SQK-PBK004  included   r95_450bps_linear.cfg\n",
      "FLO-MIN107  SQK-PCS108             r95_450bps_linear.cfg\n",
      "FLO-MIN107  SQK-PSK004             r95_450bps_linear.cfg\n",
      "FLO-MIN107  SQK-RAB201  included   r95_450bps_linear.cfg\n",
      "FLO-MIN107  SQK-RAB204  included   r95_450bps_linear.cfg\n",
      "FLO-MIN107  SQK-RAD002             r95_450bps_linear.cfg\n",
      "FLO-MIN107  SQK-RAD003             r95_450bps_linear.cfg\n",
      "FLO-MIN107  SQK-RAD004             r95_450bps_linear.cfg\n",
      "FLO-MIN107  SQK-RAS201             r95_450bps_linear.cfg\n",
      "FLO-MIN107  SQK-RBK001  included   r95_450bps_linear.cfg\n",
      "FLO-MIN107  SQK-RBK004  included   r95_450bps_linear.cfg\n",
      "FLO-MIN107  SQK-RLB001  included   r95_450bps_linear.cfg\n",
      "FLO-MIN107  SQK-RLI001             r95_450bps_linear.cfg\n",
      "FLO-MIN107  SQK-RNA001             r941_70bps_rna_linear.cfg\n",
      "FLO-MIN107  SQK-RPB004  included   r95_450bps_linear.cfg\n",
      "FLO-MIN107  VSK-VBK001             r95_450bps_linear.cfg\n",
      "FLO-MIN107  VSK-VMK001  included   r95_450bps_linear.cfg\n",
      "FLO-MIN107  VSK-VSK001             r95_450bps_linear.cfg\n",
      "FLO-PRO001  SQK-LSK109             r941_450bps_linear_prom.cfg\n"
     ]
    }
   ],
   "source": [
    "read_fast5_basecaller.py -l"
   ]
  },
  {
   "cell_type": "markdown",
   "metadata": {},
   "source": [
    "The main Albacore command runs the basecalling process. \n",
    "- **-i** :  Input files directory \n",
    "- **-r** : for recurive search\n",
    "- **-t** : is for available execution threads, \n",
    "- **-s** : is for the output directory and -o is for the output data formats.\n",
    "- **-o** : type format of the output\n",
    "- **-c** : specifies the configuration file to be used in the execution. This file should match one of the listed files that were printed with the command above."
   ]
  },
  {
   "cell_type": "markdown",
   "metadata": {},
   "source": [
    "#### REMARK: **Data should not be included in /data folder of this project (see \"Additional data\" section in README file)**\n"
   ]
  },
  {
   "cell_type": "code",
   "execution_count": 1,
   "metadata": {
    "collapsed": true
   },
   "outputs": [
    {
     "name": "stdout",
     "output_type": "stream",
     "text": [
      "| 1556 of 1556|##############################################|100% Time: 0:04:54\n"
     ]
    }
   ],
   "source": [
    "read_fast5_basecaller.py -i data/edudata/fast5 \\\n",
    "                         -r \\\n",
    "                         -t 48 \\\n",
    "                         -s data/edudata/albacore_output/ \\\n",
    "                         -o fastq,fast5 \\\n",
    "                         -c r94_450bps_linear.cfg\n"
   ]
  },
  {
   "cell_type": "markdown",
   "metadata": {},
   "source": [
    "Output files are often divided in more than one FASTQ/FASTA file. In order to perform QC, alignments or assemblies, the sequences need to be placed in one unique file. The user can easily join the output files using the following bash command:"
   ]
  },
  {
   "cell_type": "code",
   "execution_count": 2,
   "metadata": {},
   "outputs": [],
   "source": [
    "cat data/edudata/albacore_output/workspace/pass/*.fastq > data/edudata/reads.fastq\n",
    "cat data/edudata/albacore_output/workspace/fail/*.fastq >> data/edudata/reads.fastq"
   ]
  },
  {
   "cell_type": "markdown",
   "metadata": {},
   "source": [
    "### References\n",
    "\n",
    "<a id='albacore'>[1]</a> Oxford Nanopore Technology (2017, September 4). New basecaller now performs ‘raw basecalling’, for improved sequencing accuracy. URL \n",
    "https://nanoporetech.com/about-us/news/new-basecaller-now-performs-raw-basecalling-improved-sequencing-accuracy \n",
    "\n",
    "<a id='wick_et_al'>[2]</a> Wick R., Judd L.M. and Holt K.E. (2018, March 5). Comparison of Oxford Nanopore basecalling tools. GitHub. URL https://github.com/rrwick/Basecalling-comparison \n",
    "\n",
    "<a id='deNBI'>[3]</a> de.NBI Nanopore Training Course (2017). GitHub repository. URL https://denbi-nanopore-training-course.readthedocs.io/en/latest/index.html"
   ]
  }
 ],
 "metadata": {
  "kernelspec": {
   "display_name": "Bash",
   "language": "bash",
   "name": "bash"
  },
  "language_info": {
   "codemirror_mode": "shell",
   "file_extension": ".sh",
   "mimetype": "text/x-sh",
   "name": "bash"
  }
 },
 "nbformat": 4,
 "nbformat_minor": 2
}
