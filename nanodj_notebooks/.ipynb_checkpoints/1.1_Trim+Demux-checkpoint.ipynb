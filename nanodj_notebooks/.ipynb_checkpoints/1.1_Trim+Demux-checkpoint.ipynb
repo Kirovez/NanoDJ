{
 "cells": [
  {
   "cell_type": "markdown",
   "metadata": {},
   "source": [
    "## Adapter trimming and barcode demultiplexing with Porechop\n",
    "\n",
    "Some ONT applications can gain advantage of pooling (multiplexing) different samples by using sequence adapters to reduce the costs of the sequencing run. As a consequence, the results of the run will be a mixture of reads with different adapters tagging each sample. NanoDJ relies on .[Porechop](https://github.com/rrwick/Porechop) for finding and trimming ONT adapters and demultiplexing the barcoded ONT reads. Porechop commands and options are shown in the command usage:"
   ]
  },
  {
   "cell_type": "code",
   "execution_count": null,
   "metadata": {
    "collapsed": true
   },
   "outputs": [],
   "source": [
    "!porechop -h"
   ]
  },
  {
   "cell_type": "markdown",
   "metadata": {},
   "source": [
    "Basic Porechop command requires an input file (<font color='blue'>-i</font> option) and output filename (after the '<font color='blue'>></font>' symbol). Porechop finds the adapters and places the trimmed reads on the output.\n",
    "\n",
    "Demultiplexing can be done with the <font color='blue'>-b</font> BARCODE_DIR option instead of defining the output file for trimmed reads. Reads are distributed in different bins (files) depending on their barcodes and these files are placed on BARCODE_DIR directory. The user can also control the minimum match percentage of barcodes changing the threshold (<font color='blue'>--barcode_threshold</font>) and add more options as shown on Porechop usage page.\n",
    "\n",
    "The demultiplexing task can be in Albacore since 1.0 version. In this case, it is frequent to find that both algorithms disagree on the most appropriate bin for a read. Porechop can perform its own demultiplexing on the Albacore output, placing the reads in which both software disagree in a bin called 'none'.\n"
   ]
  },
  {
   "cell_type": "code",
   "execution_count": null,
   "metadata": {
    "collapsed": true
   },
   "outputs": [],
   "source": [
    "#Porechop data link available in github\n",
    "!porechop -i data/porechop/1_out.fastq -b data/porechop/demultiplexed --threads 2"
   ]
  },
  {
   "cell_type": "markdown",
   "metadata": {},
   "source": [
    "The following builds a plot that shows the run yield for each barcode. The x and y axes show the total number of reads and the total number of bases, repectively. The size of each point corresponds to the average read length of the reads for that specific barcode."
   ]
  },
  {
   "cell_type": "code",
   "execution_count": null,
   "metadata": {
    "collapsed": true
   },
   "outputs": [],
   "source": [
    "#!/usr/bin/python\n",
    "\n",
    "import sys\n",
    "import matplotlib\n",
    "import matplotlib.patches as mpatches\n",
    "import matplotlib.pyplot as plt\n",
    "from Bio import SeqIO"
   ]
  },
  {
   "cell_type": "code",
   "execution_count": null,
   "metadata": {
    "collapsed": true
   },
   "outputs": [],
   "source": [
    "matplotlib.rcParams['figure.figsize'] = (15, 10)\n",
    "\n",
    "barcode_dir = 'data/porechop/demultiplexed/'\n",
    "#Modify this list with an element per barcode (6 in the example)\n",
    "barcode_files = ['BC01', 'BC02', 'BC03', 'BC04', 'BC05', 'BC06']\n",
    "\n",
    "avg_lenghts = []\n",
    "bases_cnt = []\n",
    "read_cnt = []\n",
    "\n",
    "#Bin files parser\n",
    "def read_bin(filename):\n",
    "    read_lenghts = []\n",
    "    count = 0\n",
    "    for seq_record in SeqIO.parse(filename, 'fastq'):\n",
    "        read_lenghts.append(len(seq_record.seq))\n",
    "        count += 1\n",
    "\n",
    "    avg_lenghts.append(sum(read_lenghts)/len(read_lenghts))\n",
    "    bases_cnt.append(sum(read_lenghts))\n",
    "    read_cnt.append(count)\n",
    "\n",
    "for bin_file in barcode_files:\n",
    "    read_bin(barcode_dir + str(bin_file) + '.fastq')\n",
    "\n",
    "#One colour per barcode (6 + none colour in the example)\n",
    "colors = ['#F15854', '#5DA5DA', '#FAA43A', '#60BD68', '#F17CB0', '#B276B2', '#DECF3F']\n",
    "\n",
    "#Size of each point depending on the average read lengths\n",
    "s = [3.2**(n/1000) for n in avg_lenghts]\n",
    "\n",
    "#Draw the points and annotations\n",
    "fig, ax = plt.subplots()\n",
    "for index, barcode in enumerate(barcode_files, start=0):\n",
    "    ax.scatter(read_cnt[index],bases_cnt[index],s=s[index],c=colors[index],label=barcode, alpha=0.7, linewidth=3)\n",
    "    ax.annotate(int(avg_lenghts[index]), (read_cnt[index] - 7,bases_cnt[index] - 10**4.5))\n",
    "\n",
    "#Legend\n",
    "handles = [mpatches.Patch(color=color, label=barcode) for color, barcode, avg_length in zip(colors, barcode_files, avg_lenghts)]\n",
    "ax.legend(handles=handles, loc=4, prop={'size': 15}, fontsize=9, frameon=True)\n",
    "\n",
    "#Title and axes text\n",
    "plt.title('Yield per barcode and average read length', fontsize=18)\n",
    "plt.xlabel('Number of reads', fontsize=12)\n",
    "plt.ylabel('Total number of bases', fontsize=12)\n",
    "\n",
    "ax.grid(True)\n",
    "\n",
    "plt.show()"
   ]
  }
 ],
 "metadata": {
  "kernelspec": {
   "display_name": "Python 3",
   "language": "python",
   "name": "python3"
  },
  "language_info": {
   "codemirror_mode": {
    "name": "ipython",
    "version": 3
   },
   "file_extension": ".py",
   "mimetype": "text/x-python",
   "name": "python",
   "nbconvert_exporter": "python",
   "pygments_lexer": "ipython3",
   "version": "3.6.3"
  }
 },
 "nbformat": 4,
 "nbformat_minor": 2
}
