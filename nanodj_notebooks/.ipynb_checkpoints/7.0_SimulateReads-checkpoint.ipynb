{
 "cells": [
  {
   "cell_type": "markdown",
   "metadata": {},
   "source": [
    "## Simmulating MinION reads with Nanosim\n",
    "\n",
    "[NanoSim](https://github.com/bcgsc/NanoSim) is a fast and scalable read simulator that captures the technology-specific features of ONT data, and allows for adjustments upon improvement of nanopore sequencing technology.\n",
    "\n",
    "NanoSim proceeds in two steps. In the first step, NanoSim provides a comprehensive alignment-based analysis and generates a set of read profiles (read characterization step). Whereas in the second step, it models the read features such as the base-calling errors of ONT reads and the length distribution (built in the previous step) to produce in silico reads for a given reference genome (simulation step). Although ONT chemistry is still evolving, the statistical models that NanoSim uses are theoretically valid for any version of it. At the moment, it has been tested with both the 1D reads using the R9 chemistry, and the 2D reads using the chemistry R7, R7.3 and R9. NanoSim can simulate either circular or linear genomes and is capable of simulating reads from genomes with multiple chromosomes. An important note is that the runtime and memory requirements of NanoSim are highly dependent on the number of simulated reads and the length of the reference sequence.\n",
    "\n",
    "NanoDJ uses [Nanosim-h](https://github.com/karel-brinda/NanoSim-H), a fork from the NanoSim project, which permits moving directly to the simulation step using precomputed error profiles instead of investing time on the read characterization step. This alternative may be attractive for those users without access to ONT read-level information data."
   ]
  },
  {
   "cell_type": "code",
   "execution_count": null,
   "metadata": {},
   "outputs": [],
   "source": [
    "!nanosim-h -h"
   ]
  },
  {
   "cell_type": "code",
   "execution_count": null,
   "metadata": {
    "collapsed": true
   },
   "outputs": [],
   "source": [
    "!nanosim-h -n 200 data/sample/reference/NZ_CP010867.1_Ref.fasta"
   ]
  },
  {
   "cell_type": "markdown",
   "metadata": {},
   "source": [
    "Using the QualityControl.ipynb the user can generate distinct plots and tables (read length, GC content, etc) out of the simulated reads:"
   ]
  },
  {
   "cell_type": "code",
   "execution_count": null,
   "metadata": {
    "collapsed": true
   },
   "outputs": [],
   "source": [
    "%load_ext rpy2.ipython\n",
    "\n",
    "#Biopython module imports for loading sequence files\n",
    "from Bio import SeqIO\n",
    "from Bio.SeqUtils import GC\n",
    "\n",
    "#Numpy and pandas to manage our data\n",
    "import numpy as np\n",
    "import pandas as pd\n",
    "import matplotlib.mlab as mlab\n",
    "import matplotlib.pyplot as plt\n",
    "import matplotlib\n",
    "\n",
    "#We will use reagular expressions for extract the read id\n",
    "import re\n",
    "\n",
    "#Function to build a pandas dataframe from a FASTA or FASTQ file\n",
    "def read_sequence_file(filename, format):\n",
    "    rows = []\n",
    "    columns = ['id', 'sequence', 'read_length', 'gc_content']\n",
    "    if(format == 'fastq'):\n",
    "        columns.append('avg_quality')\n",
    "    #Building each row with the read and its features\n",
    "    for seq_record in SeqIO.parse(filename, format):\n",
    "        if(format == 'fastq'):\n",
    "            quality_score = np.mean(seq_record.letter_annotations[\"phred_quality\"])\n",
    "        read_id = seq_record.description\n",
    "        if(format == 'fastq'):\n",
    "            rows.append([read_id, seq_record.seq, len(seq_record.seq), GC(seq_record.seq), quality_score])\n",
    "        else:\n",
    "            rows.append([read_id, seq_record.seq, len(seq_record.seq), GC(seq_record.seq)])  \n",
    "        \n",
    "    df = pd.DataFrame(rows, columns=columns)\n",
    "    return df\n",
    "\n",
    "# ----- Place the path to your reads file here ----- #\n",
    "seq_df = read_sequence_file('simulated.fa', 'fasta')\n",
    "\n",
    "#Setting the plot size\n",
    "matplotlib.rcParams['figure.figsize'] = (9, 8)\n",
    "\n",
    "#We can customize the plot using the pre-defined style called “ggplot” to emulate ggplot (popular R vizualization package) style \n",
    "plt.style.use('seaborn-notebook')\n",
    "\n",
    "#On the plt.hist parameters we can set the number of bins and the bar color using labels as 'blue', 'red', 'yellow'... or using a RGB code.\n",
    "#CHANGE 'read_length' FOR 'gc_content' TO PLOT GC CONTENT INSTAD OF READ LENGTH \n",
    "plt.hist(seq_df['read_length'], bins=50, color='#ef8a62')\n",
    "plt.title('Read length histogram')\n",
    "plt.xlabel('Read length in bp')\n",
    "plt.ylabel('Count')\n",
    "\n",
    "plt.show()"
   ]
  },
  {
   "cell_type": "markdown",
   "metadata": {},
   "source": [
    "## Nanosim regular version usage\n",
    "\n",
    "In the regular version of NanoSim, the two stages need to be executed separately. For the read characterization step, NanoSim takes a training read set in FASTA format and use minimap2 or LAST as alignment algorithm to characterize base-calling errors. An alignment file in SAM/MAF format can be provided instead of the reads. A set of read profiles is then generated and used as input in the simulation step.\n",
    "\n",
    "Ready to use read profiles are available and can be downloaded from [Supplementary data of NanoSim](ftp://ftp.bcgsc.ca/supplementary/NanoSim/). These profiles allow users to move directly to the simulation step.This is available since the last version."
   ]
  },
  {
   "cell_type": "code",
   "execution_count": null,
   "metadata": {
    "collapsed": true
   },
   "outputs": [],
   "source": [
    "!read_analysis.py -h"
   ]
  },
  {
   "cell_type": "code",
   "execution_count": null,
   "metadata": {
    "collapsed": true
   },
   "outputs": [],
   "source": [
    "!read_analysis.py -i data/sample/reads.fastq -r data/sample/reference/NZ_CP010867.1_Ref.fasta -o sample"
   ]
  },
  {
   "cell_type": "markdown",
   "metadata": {},
   "source": [
    "Simulation stage takes read profiles and reference as input. The output of this stage consists of a FASTA file with the simulated reads."
   ]
  },
  {
   "cell_type": "code",
   "execution_count": null,
   "metadata": {
    "collapsed": true
   },
   "outputs": [],
   "source": [
    "!simulator.py -H"
   ]
  },
  {
   "cell_type": "code",
   "execution_count": null,
   "metadata": {
    "collapsed": true
   },
   "outputs": [],
   "source": [
    "!simulator.py circular -r data/sample/reference/NZ_CP010867.1_Ref.fasta -c sample"
   ]
  },
  {
   "cell_type": "markdown",
   "metadata": {},
   "source": [
    "### Reference:\n",
    "\n",
    "[1] Yang C., Chu J., Warren R.L, Birol I. NanoSim: nanopore sequence read simulator based on statistical characterization. GigaScience, Volume 6, Issue 4, 1 April 2017, gix010. DOI: https://doi.org/10.1093/gigascience/gix010\n"
   ]
  }
 ],
 "metadata": {
  "kernelspec": {
   "display_name": "Python 3",
   "language": "python",
   "name": "python3"
  },
  "language_info": {
   "codemirror_mode": {
    "name": "ipython",
    "version": 3
   },
   "file_extension": ".py",
   "mimetype": "text/x-python",
   "name": "python",
   "nbconvert_exporter": "python",
   "pygments_lexer": "ipython3",
   "version": "3.6.3"
  }
 },
 "nbformat": 4,
 "nbformat_minor": 2
}
