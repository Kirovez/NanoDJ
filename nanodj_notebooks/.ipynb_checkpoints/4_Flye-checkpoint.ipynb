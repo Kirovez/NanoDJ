{
 "cells": [
  {
   "cell_type": "markdown",
   "metadata": {},
   "source": [
    "## De novo assembly with Flye\n",
    "\n",
    "[Flye](https://github.com/fenderglass/Flye) is a de novo assembler for long and noisy reads such as ONT reads. Flye builds the ABruijn graph and performs an extra repeat classification and analysis step. It also has a polished module that produces the final assembly."
   ]
  },
  {
   "cell_type": "code",
   "execution_count": 3,
   "metadata": {},
   "outputs": [
    {
     "name": "stdout",
     "output_type": "stream",
     "text": [
      "usage: flye (--pacbio-raw | --pacbio-corr | --nano-raw |\n",
      "\t     --nano-corr | --subassemblies) file1 [file_2 ...]\n",
      "\t     --genome-size size --out-dir dir_path [--threads int]\n",
      "\t     [--iterations int] [--min-overlap int] [--resume]\n",
      "\t     [--debug] [--version] [--help]\n",
      "\n",
      "Assembly of long and error-prone reads\n",
      "\n",
      "optional arguments:\n",
      "  -h, --help            show this help message and exit\n",
      "  --pacbio-raw path [path ...]\n",
      "                        PacBio raw reads\n",
      "  --pacbio-corr path [path ...]\n",
      "                        PacBio corrected reads\n",
      "  --nano-raw path [path ...]\n",
      "                        ONT raw reads\n",
      "  --nano-corr path [path ...]\n",
      "                        ONT corrected reads\n",
      "  --subassemblies path [path ...]\n",
      "                        high-quality contig-like input\n",
      "  -g size, --genome-size size\n",
      "                        estimated genome size (for example, 5m or 2.6g)\n",
      "  -o path, --out-dir path\n",
      "                        Output directory\n",
      "  -t int, --threads int\n",
      "                        number of parallel threads (default: 1)\n",
      "  -i int, --iterations int\n",
      "                        number of polishing iterations (default: 1)\n",
      "  -m int, --min-overlap int\n",
      "                        minimum overlap between reads (default: 5000)\n",
      "  --resume              resume from the last completed stage\n",
      "  --resume-from stage_name\n",
      "                        resume from a custom stage\n",
      "  --debug               enable debug output\n",
      "  -v, --version         show program's version number and exit\n",
      "\n",
      "Input reads could be in FASTA or FASTQ format, uncompressed\n",
      "or compressed with gz. Currenlty, raw and corrected reads\n",
      "from PacBio and ONT are supported. Additionally, --subassemblies\n",
      "option does a consensus assembly of high-quality input contigs.\n",
      "You may specify multiple fles with reads (separated by spaces).\n",
      "Mixing different read types is not yet supported.\n",
      "\n",
      "You must provide an estimate of the genome size as input,\n",
      "which is used for solid k-mers selection. The estimate could\n",
      "be rough (e.g. withing 0.5x-2x range) and does not affect\n",
      "the other assembly stages. Standard size modificators are\n",
      "supported (e.g. 5m or 2.6g)\n"
     ]
    }
   ],
   "source": [
    "flye -h"
   ]
  },
  {
   "cell_type": "markdown",
   "metadata": {},
   "source": [
    "Flye basic arguments are:\n",
    "\n",
    "--nanoraw FASTA reads file of ONT reads.  \n",
    "--out-dir Output directory.  \n",
    "--genome-size Size of the assembled genome.  \n",
    "--threads Number of available threads to perform the assembly.  "
   ]
  },
  {
   "cell_type": "code",
   "execution_count": 1,
   "metadata": {},
   "outputs": [
    {
     "name": "stdout",
     "output_type": "stream",
     "text": [
      "bash: flye: command not found\n"
     ]
    },
    {
     "ename": "",
     "evalue": "127",
     "execution_count": 1,
     "output_type": "error",
     "traceback": []
    }
   ],
   "source": [
    "flye --nano-raw data/agalactiae/merged-output-full.fastq --out-dir data/agalactiae/flye_output --genome-size 4.7m --threads 2"
   ]
  },
  {
   "cell_type": "code",
   "execution_count": null,
   "metadata": {
    "collapsed": true
   },
   "outputs": [],
   "source": []
  }
 ],
 "metadata": {
  "kernelspec": {
   "display_name": "Bash",
   "language": "bash",
   "name": "bash"
  },
  "language_info": {
   "codemirror_mode": "shell",
   "file_extension": ".sh",
   "mimetype": "text/x-sh",
   "name": "bash"
  }
 },
 "nbformat": 4,
 "nbformat_minor": 2
}
