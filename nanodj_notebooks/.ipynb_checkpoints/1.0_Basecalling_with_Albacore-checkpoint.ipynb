{
 "cells": [
  {
   "cell_type": "markdown",
   "metadata": {},
   "source": [
    "## Basecalling with Albacore\n",
    "\n",
    "Albacore is a basecaller for ONT data. FAST5 files with event data are processed with Albacore which outputs the FASTQ sequence files."
   ]
  },
  {
   "cell_type": "code",
   "execution_count": 1,
   "metadata": {},
   "outputs": [
    {
     "name": "stdout",
     "output_type": "stream",
     "text": [
      "usage: read_fast5_basecaller.py [-h] [-l] [-v] [-i INPUT] -t WORKER_THREADS -s\n",
      "                                SAVE_PATH [-f FLOWCELL] [-k KIT] [--barcoding]\n",
      "                                [-c CONFIG] [-d DATA_PATH] [-b] [-r]\n",
      "                                [-n FILES_PER_BATCH_FOLDER] [-o OUTPUT_FORMAT]\n",
      "                                [-q READS_PER_FASTQ_BATCH]\n",
      "\n",
      "ONT Albacore Sequencing Pipeline Software\n",
      "\n",
      "optional arguments:\n",
      "  -h, --help            show this help message and exit\n",
      "  -l, --list_workflows  List standard flowcell / kit combinations.\n",
      "  -v, --version         Print the software version.\n",
      "  -i INPUT, --input INPUT\n",
      "                        Folder containing read fast5 files (if not present,\n",
      "                        will expect file names on stdin).\n",
      "  -t WORKER_THREADS, --worker_threads WORKER_THREADS\n",
      "                        Number of worker threads to use.\n",
      "  -s SAVE_PATH, --save_path SAVE_PATH\n",
      "                        Path to save output.\n",
      "  -f FLOWCELL, --flowcell FLOWCELL\n",
      "                        Flowcell used during the sequencing run.\n",
      "  -k KIT, --kit KIT     Kit used during the sequencing run.\n",
      "  --barcoding           Search for barcodes to demultiplex sequencing data.\n",
      "  -c CONFIG, --config CONFIG\n",
      "                        Optional configuration file to use.\n",
      "  -d DATA_PATH, --data_path DATA_PATH\n",
      "                        Optional path to model files.\n",
      "  -b, --debug           Output additional debug information to the log.\n",
      "  -r, --recursive       Recurse through subfolders for input data files.\n",
      "  -n FILES_PER_BATCH_FOLDER, --files_per_batch_folder FILES_PER_BATCH_FOLDER\n",
      "                        Maximum number of files in each batch subfolder. Set\n",
      "                        to 0 to disable batch subfolders.\n",
      "  -o OUTPUT_FORMAT, --output_format OUTPUT_FORMAT\n",
      "                        desired output format, can be fastq,fast5 or only one\n",
      "                        of these.\n",
      "  -q READS_PER_FASTQ_BATCH, --reads_per_fastq_batch READS_PER_FASTQ_BATCH\n",
      "                        number of reads per FastQ batch file. Set to 0 to\n",
      "                        receive one reads per file and file names which\n",
      "                        include the read ID.\n"
     ]
    }
   ],
   "source": [
    "read_fast5_basecaller.py -h"
   ]
  },
  {
   "cell_type": "markdown",
   "metadata": {},
   "source": [
    "Output files are often divided in more than one FASTQ/FASTA archive. In order to perform QC, alignments or assemblies, the sequences need to be in one unique file. We can easily join the output files using bash commands:"
   ]
  },
  {
   "cell_type": "code",
   "execution_count": 2,
   "metadata": {},
   "outputs": [
    {
     "name": "stdout",
     "output_type": "stream",
     "text": [
      "Parsing config files in /opt/albacore.\n",
      "Available flowcell + kit combinations are:\n",
      "flowcell    kit         barcoding  config file\n",
      "FLO-MIN107  SQK-RLB001  included   /opt/albacore/r95_450bps_linear.cfg\n",
      "FLO-MIN107  SQK-RBK001  included   /opt/albacore/r95_450bps_linear.cfg\n",
      "FLO-MIN107  SQK-LSK308             /opt/albacore/r95_450bps_linear_for_1dsq.cfg\n",
      "FLO-MIN107  SQK-LWB001  included   /opt/albacore/r95_450bps_linear.cfg\n",
      "FLO-MIN107  SQK-PCS108             /opt/albacore/r95_450bps_linear.cfg\n",
      "FLO-MIN107  SQK-RAD003             /opt/albacore/r95_450bps_linear.cfg\n",
      "FLO-MIN107  SQK-RLI001             /opt/albacore/r95_450bps_linear.cfg\n",
      "FLO-MIN107  SQK-RAS201             /opt/albacore/r95_450bps_linear.cfg\n",
      "FLO-MIN107  SQK-LSK108             /opt/albacore/r95_450bps_linear.cfg\n",
      "FLO-MIN107  SQK-RNA001             /opt/albacore/r94_70bps_rna_linear.cfg\n",
      "FLO-MIN107  VSK-VBK001             /opt/albacore/r95_450bps_linear.cfg\n",
      "FLO-MIN107  SQK-RAD002             /opt/albacore/r95_450bps_linear.cfg\n",
      "FLO-MIN107  SQK-LWP001             /opt/albacore/r95_450bps_linear.cfg\n",
      "FLO-MIN107  SQK-RAB201  included   /opt/albacore/r95_450bps_linear.cfg\n",
      "FLO-MIN107  SQK-DCS108             /opt/albacore/r95_450bps_linear.cfg\n",
      "FLO-MIN106  SQK-RLB001  included   /opt/albacore/r94_450bps_linear.cfg\n",
      "FLO-MIN106  SQK-RBK001  included   /opt/albacore/r94_450bps_linear.cfg\n",
      "FLO-MIN106  SQK-LWB001  included   /opt/albacore/r94_450bps_linear.cfg\n",
      "FLO-MIN106  SQK-RAD003             /opt/albacore/r94_450bps_linear.cfg\n",
      "FLO-MIN106  SQK-RLI001             /opt/albacore/r94_450bps_linear.cfg\n",
      "FLO-MIN106  SQK-RAS201             /opt/albacore/r94_450bps_linear.cfg\n",
      "FLO-MIN106  SQK-LSK108             /opt/albacore/r94_450bps_linear.cfg\n",
      "FLO-MIN106  SQK-RNA001             /opt/albacore/r94_70bps_rna_linear.cfg\n",
      "FLO-MIN106  VSK-VBK001             /opt/albacore/r94_450bps_linear.cfg\n",
      "FLO-MIN106  SQK-RAD002             /opt/albacore/r94_450bps_linear.cfg\n",
      "FLO-MIN106  SQK-LWP001             /opt/albacore/r94_450bps_linear.cfg\n",
      "FLO-MIN106  SQK-RAB201  included   /opt/albacore/r94_450bps_linear.cfg\n"
     ]
    }
   ],
   "source": [
    "read_fast5_basecaller.py -l"
   ]
  },
  {
   "cell_type": "code",
   "execution_count": 4,
   "metadata": {
    "collapsed": true
   },
   "outputs": [],
   "source": [
    "read_fast5_basecaller.py -i data/Agalactiae/Data_MinION/raw_1D/pass \\\n",
    "                         -r \\\n",
    "                         -t 48 \\\n",
    "                         -s data/Agalactiae/Outputs/Albacore \\\n",
    "                         -o fastq,fast5 \\\n",
    "                         -c r94_450bps_linear.cfg\n"
   ]
  },
  {
   "cell_type": "markdown",
   "metadata": {},
   "source": [
    "Output files are often divided in more than one FASTQ/FASTA file. In order to perform QC, alignments or assemblies, the sequences need to be in one unique file. We can easily join the output files using bash commands:"
   ]
  },
  {
   "cell_type": "code",
   "execution_count": 6,
   "metadata": {
    "collapsed": true
   },
   "outputs": [],
   "source": [
    "cat data/fastqs/*.fastq > data/merged-output.fastq"
   ]
  },
  {
   "cell_type": "code",
   "execution_count": null,
   "metadata": {
    "collapsed": true
   },
   "outputs": [],
   "source": [
    "cat merged-ouput.fastq | awk '{if(NR%4==1) {printf(\">%s\\n\",substr($0,2));} else if(NR%4==2) print;}' > merged-output.fasta"
   ]
  },
  {
   "cell_type": "code",
   "execution_count": 5,
   "metadata": {},
   "outputs": [
    {
     "name": "stdout",
     "output_type": "stream",
     "text": [
      "Loading required package: viridisLite\n",
      "\n",
      "Attaching package: ‘scales’\n",
      "\n",
      "The following object is masked from ‘package:viridis’:\n",
      "\n",
      "    viridis_pal\n",
      "\n",
      "\n",
      "Attaching package: ‘data.table’\n",
      "\n",
      "The following objects are masked from ‘package:reshape2’:\n",
      "\n",
      "    dcast, melt\n",
      "\n",
      "[1] \"Creating output directory\"\n",
      "[1] \"Loading and summarising input file\"\n",
      "[1] \"Plotting length histogram\"\n",
      "null device \n",
      "          1 \n",
      "[1] \"Plotting mean Q score histogram\"\n",
      "null device \n",
      "          1 \n",
      "[1] \"Plotting events per base histogram\"\n",
      "null device \n",
      "          1 \n",
      "[1] \"Plotting flowcell channels events per base plot\"\n",
      "null device \n",
      "          1 \n",
      "[1] \"Plotting flowcell channels read lengths plot\"\n",
      "null device \n",
      "          1 \n",
      "[1] \"Plotting flowcell yield summary\"\n",
      "null device \n",
      "          1 \n",
      "[1] \"Plotting sequence length over time\"\n",
      "Picking joint bandwidth of 2390\n",
      "Picking joint bandwidth of 1550\n",
      "null device \n",
      "          1 \n",
      "[1] \"Plotting Q score over time\"\n",
      "Picking joint bandwidth of 0.722\n",
      "Picking joint bandwidth of 0.655\n",
      "null device \n",
      "          1 \n",
      "[1] \"Plotting read length vs. q score scatterplot\"\n",
      "null device \n",
      "          1 \n",
      "[1] \"Plotting flowcell channels summary histograms\"\n",
      "null device \n",
      "          1 \n"
     ]
    }
   ],
   "source": [
    "Rscript minion_qc/minion_QC.R data/basecalling_output/sequencing_summary.txt minon_qc_output 7"
   ]
  },
  {
   "cell_type": "code",
   "execution_count": null,
   "metadata": {
    "collapsed": true
   },
   "outputs": [],
   "source": []
  }
 ],
 "metadata": {
  "kernelspec": {
   "display_name": "Bash",
   "language": "bash",
   "name": "bash"
  },
  "language_info": {
   "codemirror_mode": "shell",
   "file_extension": ".sh",
   "mimetype": "text/x-sh",
   "name": "bash"
  }
 },
 "nbformat": 4,
 "nbformat_minor": 2
}
